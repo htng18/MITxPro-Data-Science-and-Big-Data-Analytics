{
 "cells": [
  {
   "cell_type": "code",
   "execution_count": null,
   "metadata": {},
   "outputs": [],
   "source": [
    "## MITxPro Data Science and Big Data Analytics: Making Data-Driven Decisions\n",
    "## Case Study of Recommender for Movies"
   ]
  },
  {
   "cell_type": "code",
   "execution_count": 2,
   "metadata": {},
   "outputs": [],
   "source": [
    "import numpy as np\n",
    "import pandas as pd\n",
    "import matplotlib.pyplot as plt\n",
    "%matplotlib inline\n",
    "import graphlab"
   ]
  },
  {
   "cell_type": "code",
   "execution_count": 3,
   "metadata": {},
   "outputs": [],
   "source": [
    "col_names=[\"user_id\",\"item_id\",\"rating\",\"timestamp\"]\n",
    "data=pd.read_table(\"u.data\",names=col_names)\n",
    "data=data.drop(\"timestamp\",1)"
   ]
  },
  {
   "cell_type": "code",
   "execution_count": 40,
   "metadata": {},
   "outputs": [
    {
     "data": {
      "text/plain": [
       "Text(0,0.5,u'Frequency')"
      ]
     },
     "execution_count": 40,
     "metadata": {},
     "output_type": "execute_result"
    },
    {
     "data": {
      "image/png": "[encoded data removed]",
      "text/plain": [
       "<matplotlib.figure.Figure at 0x2f2db208>"
      ]
     },
     "metadata": {},
     "output_type": "display_data"
    }
   ],
   "source": [
    "plt.hist(data[\"rating\"])\n",
    "plt.title('Histogram of Rating')\n",
    "plt.xlabel('Rating')\n",
    "plt.ylabel('Frequency')"
   ]
  },
  {
   "cell_type": "code",
   "execution_count": 5,
   "metadata": {},
   "outputs": [
    {
     "name": "stdout",
     "output_type": "stream",
     "text": [
      "6.30466936422\n"
     ]
    }
   ],
   "source": [
    "# Data Sparity\n",
    "Number_Ratings=len(data)\n",
    "Number_Movies=len(np.unique(data[\"item_id\"]))\n",
    "Number_Users=len(np.unique(data[\"user_id\"]))\n",
    "sparsity=100.0*Number_Ratings/(Number_Movies*Number_Users)\n",
    "print(sparsity)"
   ]
  },
  {
   "cell_type": "code",
   "execution_count": 7,
   "metadata": {},
   "outputs": [],
   "source": [
    "# Subset the data set\n",
    "# Count the numer of ratings of each user\n",
    "dcount=data[\"user_id\"].value_counts()\n",
    "# The list to store the users with at least 50 number of ratings\n",
    "user_50=list(dcount[dcount>=50].index)\n",
    "# Subset the dataframe with the users with at least 50 number of ratings\n",
    "data=data[data[\"user_id\"].isin(user_50)]"
   ]
  },
  {
   "cell_type": "code",
   "execution_count": 8,
   "metadata": {},
   "outputs": [
    {
     "name": "stdout",
     "output_type": "stream",
     "text": [
      "9.26584192843\n"
     ]
    }
   ],
   "source": [
    "# Recalculate the data set\n",
    "Number_Ratings=len(data)\n",
    "Number_Movies=len(np.unique(data[\"item_id\"]))\n",
    "Number_Users=len(np.unique(data[\"user_id\"]))\n",
    "sparsity=100.0*Number_Ratings/(Number_Movies*Number_Users)\n",
    "print(sparsity)"
   ]
  },
  {
   "cell_type": "code",
   "execution_count": 9,
   "metadata": {},
   "outputs": [
    {
     "name": "stderr",
     "output_type": "stream",
     "text": [
      "C:\\Users\\HoT\\Anaconda2\\lib\\site-packages\\sklearn\\cross_validation.py:41: DeprecationWarning: This module was deprecated in version 0.18 in favor of the model_selection module into which all the refactored classes and functions are moved. Also note that the interface of the new CV iterators are different from that of this module. This module will be removed in 0.20.\n",
      "  \"This module will be removed in 0.20.\", DeprecationWarning)\n"
     ]
    }
   ],
   "source": [
    "# Split the data into train/test/valudation\n",
    "from sklearn.cross_validation import train_test_split\n",
    "\n",
    "train, test = train_test_split(data,test_size=0.3)\n",
    "train, valid = train_test_split(train,test_size=0.25)"
   ]
  },
  {
   "cell_type": "code",
   "execution_count": 14,
   "metadata": {},
   "outputs": [
    {
     "name": "stdout",
     "output_type": "stream",
     "text": [
      "This non-commercial license of GraphLab Create for academic use is assigned to hotsangng@gmail.com and will expire on February 24, 2019.\n"
     ]
    },
    {
     "name": "stderr",
     "output_type": "stream",
     "text": [
      "[INFO] graphlab.cython.cy_server: GraphLab Create v2.1 started. Logging: C:\\Users\\HoT\\AppData\\Local\\Temp\\graphlab_server_1519539623.log.0\n"
     ]
    }
   ],
   "source": [
    "from graphlab import SFrame\n",
    "\n",
    "sf_train = SFrame(data=train)\n",
    "sf_test\t= SFrame(data=test)\n",
    "sf_valid= SFrame(data=valid)"
   ]
  },
  {
   "cell_type": "code",
   "execution_count": 15,
   "metadata": {},
   "outputs": [
    {
     "data": {
      "text/html": [
       "<pre>Recsys training: model = popularity</pre>"
      ],
      "text/plain": [
       "Recsys training: model = popularity"
      ]
     },
     "metadata": {},
     "output_type": "display_data"
    },
    {
     "data": {
      "text/html": [
       "<pre>Preparing data set.</pre>"
      ],
      "text/plain": [
       "Preparing data set."
      ]
     },
     "metadata": {},
     "output_type": "display_data"
    },
    {
     "data": {
      "text/html": [
       "<pre>    Data has 46446 observations with 568 users and 1586 items.</pre>"
      ],
      "text/plain": [
       "    Data has 46446 observations with 568 users and 1586 items."
      ]
     },
     "metadata": {},
     "output_type": "display_data"
    },
    {
     "data": {
      "text/html": [
       "<pre>    Data prepared in: 0.040107s</pre>"
      ],
      "text/plain": [
       "    Data prepared in: 0.040107s"
      ]
     },
     "metadata": {},
     "output_type": "display_data"
    },
    {
     "data": {
      "text/html": [
       "<pre>46446 observations to process; with 1586 unique items.</pre>"
      ],
      "text/plain": [
       "46446 observations to process; with 1586 unique items."
      ]
     },
     "metadata": {},
     "output_type": "display_data"
    },
    {
     "data": {
      "text/plain": [
       "{'rmse_by_item': Columns:\n",
       " \titem_id\tint\n",
       " \tcount\tint\n",
       " \trmse\tfloat\n",
       " \n",
       " Rows: 1472\n",
       " \n",
       " Data:\n",
       " +---------+-------+----------------+\n",
       " | item_id | count |      rmse      |\n",
       " +---------+-------+----------------+\n",
       " |   232   |   24  | 0.779231028568 |\n",
       " |   363   |   13  | 0.969882366355 |\n",
       " |   431   |   48  | 1.04140376366  |\n",
       " |   738   |   12  | 0.897527467856 |\n",
       " |   732   |   51  | 0.936182850961 |\n",
       " |   187   |   70  | 0.86777572079  |\n",
       " |   1368  |   2   | 1.58113883008  |\n",
       " |   764   |   6   | 1.05409255339  |\n",
       " |   926   |   29  | 1.03408875607  |\n",
       " |   1180  |   2   | 0.505076272276 |\n",
       " +---------+-------+----------------+\n",
       " [1472 rows x 3 columns]\n",
       " Note: Only the head of the SFrame is printed.\n",
       " You can use print_rows(num_rows=m, num_columns=n) to print more rows and columns.,\n",
       " 'rmse_by_user': Columns:\n",
       " \tuser_id\tint\n",
       " \tcount\tint\n",
       " \trmse\tfloat\n",
       " \n",
       " Rows: 568\n",
       " \n",
       " Data:\n",
       " +---------+-------+----------------+\n",
       " | user_id | count |      rmse      |\n",
       " +---------+-------+----------------+\n",
       " |   232   |   27  | 1.02021647403  |\n",
       " |   363   |   98  | 1.32323926986  |\n",
       " |   738   |   45  | 0.73103029786  |\n",
       " |   187   |   19  | 0.804506669111 |\n",
       " |   764   |   38  | 0.70161680375  |\n",
       " |   786   |   38  | 0.657194201806 |\n",
       " |   863   |   30  | 1.15371880041  |\n",
       " |   454   |   64  | 1.23305665339  |\n",
       " |   499   |   34  | 0.895201114544 |\n",
       " |   354   |   75  | 0.911052161145 |\n",
       " +---------+-------+----------------+\n",
       " [568 rows x 3 columns]\n",
       " Note: Only the head of the SFrame is printed.\n",
       " You can use print_rows(num_rows=m, num_columns=n) to print more rows and columns.,\n",
       " 'rmse_overall': 1.0208875373360757}"
      ]
     },
     "execution_count": 15,
     "metadata": {},
     "output_type": "execute_result"
    }
   ],
   "source": [
    "# Popularity Recommender\n",
    "popularity_recommender=graphlab.recommender.popularity_recommender.create(sf_train,target='rating')\n",
    "popularity_recommender.evaluate_rmse(sf_test,target='rating')"
   ]
  },
  {
   "cell_type": "code",
   "execution_count": 17,
   "metadata": {},
   "outputs": [],
   "source": [
    "## Collaborative Filtering"
   ]
  },
  {
   "cell_type": "code",
   "execution_count": 31,
   "metadata": {},
   "outputs": [
    {
     "data": {
      "text/html": [
       "<pre>Recsys training: model = factorization_recommender</pre>"
      ],
      "text/plain": [
       "Recsys training: model = factorization_recommender"
      ]
     },
     "metadata": {},
     "output_type": "display_data"
    },
    {
     "data": {
      "text/html": [
       "<pre>Preparing data set.</pre>"
      ],
      "text/plain": [
       "Preparing data set."
      ]
     },
     "metadata": {},
     "output_type": "display_data"
    },
    {
     "data": {
      "text/html": [
       "<pre>    Data has 46446 observations with 568 users and 1586 items.</pre>"
      ],
      "text/plain": [
       "    Data has 46446 observations with 568 users and 1586 items."
      ]
     },
     "metadata": {},
     "output_type": "display_data"
    },
    {
     "data": {
      "text/html": [
       "<pre>    Data prepared in: 0.031106s</pre>"
      ],
      "text/plain": [
       "    Data prepared in: 0.031106s"
      ]
     },
     "metadata": {},
     "output_type": "display_data"
    },
    {
     "data": {
      "text/html": [
       "<pre>Training factorization_recommender for recommendations.</pre>"
      ],
      "text/plain": [
       "Training factorization_recommender for recommendations."
      ]
     },
     "metadata": {},
     "output_type": "display_data"
    },
    {
     "data": {
      "text/html": [
       "<pre>+--------------------------------+--------------------------------------------------+----------+</pre>"
      ],
      "text/plain": [
       "+--------------------------------+--------------------------------------------------+----------+"
      ]
     },
     "metadata": {},
     "output_type": "display_data"
    },
    {
     "data": {
      "text/html": [
       "<pre>| Parameter                      | Description                                      | Value    |</pre>"
      ],
      "text/plain": [
       "| Parameter                      | Description                                      | Value    |"
      ]
     },
     "metadata": {},
     "output_type": "display_data"
    },
    {
     "data": {
      "text/html": [
       "<pre>+--------------------------------+--------------------------------------------------+----------+</pre>"
      ],
      "text/plain": [
       "+--------------------------------+--------------------------------------------------+----------+"
      ]
     },
     "metadata": {},
     "output_type": "display_data"
    },
    {
     "data": {
      "text/html": [
       "<pre>| num_factors                    | Factor Dimension                                 | 8        |</pre>"
      ],
      "text/plain": [
       "| num_factors                    | Factor Dimension                                 | 8        |"
      ]
     },
     "metadata": {},
     "output_type": "display_data"
    },
    {
     "data": {
      "text/html": [
       "<pre>| regularization                 | L2 Regularization on Factors                     | 1e-005   |</pre>"
      ],
      "text/plain": [
       "| regularization                 | L2 Regularization on Factors                     | 1e-005   |"
      ]
     },
     "metadata": {},
     "output_type": "display_data"
    },
    {
     "data": {
      "text/html": [
       "<pre>| solver                         | Solver used for training                         | sgd      |</pre>"
      ],
      "text/plain": [
       "| solver                         | Solver used for training                         | sgd      |"
      ]
     },
     "metadata": {},
     "output_type": "display_data"
    },
    {
     "data": {
      "text/html": [
       "<pre>| linear_regularization          | L2 Regularization on Linear Coefficients         | 1e-010   |</pre>"
      ],
      "text/plain": [
       "| linear_regularization          | L2 Regularization on Linear Coefficients         | 1e-010   |"
      ]
     },
     "metadata": {},
     "output_type": "display_data"
    },
    {
     "data": {
      "text/html": [
       "<pre>| max_iterations                 | Maximum Number of Iterations                     | 50       |</pre>"
      ],
      "text/plain": [
       "| max_iterations                 | Maximum Number of Iterations                     | 50       |"
      ]
     },
     "metadata": {},
     "output_type": "display_data"
    },
    {
     "data": {
      "text/html": [
       "<pre>+--------------------------------+--------------------------------------------------+----------+</pre>"
      ],
      "text/plain": [
       "+--------------------------------+--------------------------------------------------+----------+"
      ]
     },
     "metadata": {},
     "output_type": "display_data"
    },
    {
     "data": {
      "text/html": [
       "<pre>  Optimizing model using SGD; tuning step size.</pre>"
      ],
      "text/plain": [
       "  Optimizing model using SGD; tuning step size."
      ]
     },
     "metadata": {},
     "output_type": "display_data"
    },
    {
     "data": {
      "text/html": [
       "<pre>  Using 10000 / 46446 points for tuning the step size.</pre>"
      ],
      "text/plain": [
       "  Using 10000 / 46446 points for tuning the step size."
      ]
     },
     "metadata": {},
     "output_type": "display_data"
    },
    {
     "data": {
      "text/html": [
       "<pre>+---------+-------------------+------------------------------------------+</pre>"
      ],
      "text/plain": [
       "+---------+-------------------+------------------------------------------+"
      ]
     },
     "metadata": {},
     "output_type": "display_data"
    },
    {
     "data": {
      "text/html": [
       "<pre>| Attempt | Initial Step Size | Estimated Objective Value                |</pre>"
      ],
      "text/plain": [
       "| Attempt | Initial Step Size | Estimated Objective Value                |"
      ]
     },
     "metadata": {},
     "output_type": "display_data"
    },
    {
     "data": {
      "text/html": [
       "<pre>+---------+-------------------+------------------------------------------+</pre>"
      ],
      "text/plain": [
       "+---------+-------------------+------------------------------------------+"
      ]
     },
     "metadata": {},
     "output_type": "display_data"
    },
    {
     "data": {
      "text/html": [
       "<pre>| 0       | 25                | Not Viable                               |</pre>"
      ],
      "text/plain": [
       "| 0       | 25                | Not Viable                               |"
      ]
     },
     "metadata": {},
     "output_type": "display_data"
    },
    {
     "data": {
      "text/html": [
       "<pre>| 1       | 6.25              | Not Viable                               |</pre>"
      ],
      "text/plain": [
       "| 1       | 6.25              | Not Viable                               |"
      ]
     },
     "metadata": {},
     "output_type": "display_data"
    },
    {
     "data": {
      "text/html": [
       "<pre>| 2       | 1.5625            | Not Viable                               |</pre>"
      ],
      "text/plain": [
       "| 2       | 1.5625            | Not Viable                               |"
      ]
     },
     "metadata": {},
     "output_type": "display_data"
    },
    {
     "data": {
      "text/html": [
       "<pre>| 3       | 0.390625          | Not Viable                               |</pre>"
      ],
      "text/plain": [
       "| 3       | 0.390625          | Not Viable                               |"
      ]
     },
     "metadata": {},
     "output_type": "display_data"
    },
    {
     "data": {
      "text/html": [
       "<pre>| 4       | 0.0976562         | 0.71615                                  |</pre>"
      ],
      "text/plain": [
       "| 4       | 0.0976562         | 0.71615                                  |"
      ]
     },
     "metadata": {},
     "output_type": "display_data"
    },
    {
     "data": {
      "text/html": [
       "<pre>| 5       | 0.0488281         | 0.738045                                 |</pre>"
      ],
      "text/plain": [
       "| 5       | 0.0488281         | 0.738045                                 |"
      ]
     },
     "metadata": {},
     "output_type": "display_data"
    },
    {
     "data": {
      "text/html": [
       "<pre>| 6       | 0.0244141         | 0.781944                                 |</pre>"
      ],
      "text/plain": [
       "| 6       | 0.0244141         | 0.781944                                 |"
      ]
     },
     "metadata": {},
     "output_type": "display_data"
    },
    {
     "data": {
      "text/html": [
       "<pre>| 7       | 0.012207          | 0.848381                                 |</pre>"
      ],
      "text/plain": [
       "| 7       | 0.012207          | 0.848381                                 |"
      ]
     },
     "metadata": {},
     "output_type": "display_data"
    },
    {
     "data": {
      "text/html": [
       "<pre>+---------+-------------------+------------------------------------------+</pre>"
      ],
      "text/plain": [
       "+---------+-------------------+------------------------------------------+"
      ]
     },
     "metadata": {},
     "output_type": "display_data"
    },
    {
     "data": {
      "text/html": [
       "<pre>| Final   | 0.0976562         | 0.71615                                  |</pre>"
      ],
      "text/plain": [
       "| Final   | 0.0976562         | 0.71615                                  |"
      ]
     },
     "metadata": {},
     "output_type": "display_data"
    },
    {
     "data": {
      "text/html": [
       "<pre>+---------+-------------------+------------------------------------------+</pre>"
      ],
      "text/plain": [
       "+---------+-------------------+------------------------------------------+"
      ]
     },
     "metadata": {},
     "output_type": "display_data"
    },
    {
     "data": {
      "text/html": [
       "<pre>Starting Optimization.</pre>"
      ],
      "text/plain": [
       "Starting Optimization."
      ]
     },
     "metadata": {},
     "output_type": "display_data"
    },
    {
     "data": {
      "text/html": [
       "<pre>+---------+--------------+-------------------+-----------------------+-------------+</pre>"
      ],
      "text/plain": [
       "+---------+--------------+-------------------+-----------------------+-------------+"
      ]
     },
     "metadata": {},
     "output_type": "display_data"
    },
    {
     "data": {
      "text/html": [
       "<pre>| Iter.   | Elapsed Time | Approx. Objective | Approx. Training RMSE | Step Size   |</pre>"
      ],
      "text/plain": [
       "| Iter.   | Elapsed Time | Approx. Objective | Approx. Training RMSE | Step Size   |"
      ]
     },
     "metadata": {},
     "output_type": "display_data"
    },
    {
     "data": {
      "text/html": [
       "<pre>+---------+--------------+-------------------+-----------------------+-------------+</pre>"
      ],
      "text/plain": [
       "+---------+--------------+-------------------+-----------------------+-------------+"
      ]
     },
     "metadata": {},
     "output_type": "display_data"
    },
    {
     "data": {
      "text/html": [
       "<pre>| Initial | 0us          | 1.27003           | 1.12696               |             |</pre>"
      ],
      "text/plain": [
       "| Initial | 0us          | 1.27003           | 1.12696               |             |"
      ]
     },
     "metadata": {},
     "output_type": "display_data"
    },
    {
     "data": {
      "text/html": [
       "<pre>+---------+--------------+-------------------+-----------------------+-------------+</pre>"
      ],
      "text/plain": [
       "+---------+--------------+-------------------+-----------------------+-------------+"
      ]
     },
     "metadata": {},
     "output_type": "display_data"
    },
    {
     "data": {
      "text/html": [
       "<pre>| 1       | 46.38ms      | 1.07013           | 1.03446               | 0.0976562   |</pre>"
      ],
      "text/plain": [
       "| 1       | 46.38ms      | 1.07013           | 1.03446               | 0.0976562   |"
      ]
     },
     "metadata": {},
     "output_type": "display_data"
    },
    {
     "data": {
      "text/html": [
       "<pre>| 2       | 78.465ms     | 0.939999          | 0.968979              | 0.0580668   |</pre>"
      ],
      "text/plain": [
       "| 2       | 78.465ms     | 0.939999          | 0.968979              | 0.0580668   |"
      ]
     },
     "metadata": {},
     "output_type": "display_data"
    },
    {
     "data": {
      "text/html": [
       "<pre>| 3       | 108.545ms    | 0.868192          | 0.930229              | 0.042841    |</pre>"
      ],
      "text/plain": [
       "| 3       | 108.545ms    | 0.868192          | 0.930229              | 0.042841    |"
      ]
     },
     "metadata": {},
     "output_type": "display_data"
    },
    {
     "data": {
      "text/html": [
       "<pre>| 4       | 132.608ms    | 0.8198            | 0.903082              | 0.0345267   |</pre>"
      ],
      "text/plain": [
       "| 4       | 132.608ms    | 0.8198            | 0.903082              | 0.0345267   |"
      ]
     },
     "metadata": {},
     "output_type": "display_data"
    },
    {
     "data": {
      "text/html": [
       "<pre>| 5       | 164.694ms    | 0.773202          | 0.875737              | 0.029206    |</pre>"
      ],
      "text/plain": [
       "| 5       | 164.694ms    | 0.773202          | 0.875737              | 0.029206    |"
      ]
     },
     "metadata": {},
     "output_type": "display_data"
    },
    {
     "data": {
      "text/html": [
       "<pre>| 6       | 193.771ms    | 0.721853          | 0.844503              | 0.0254734   |</pre>"
      ],
      "text/plain": [
       "| 6       | 193.771ms    | 0.721853          | 0.844503              | 0.0254734   |"
      ]
     },
     "metadata": {},
     "output_type": "display_data"
    },
    {
     "data": {
      "text/html": [
       "<pre>| 11      | 331.133ms    | 0.557778          | 0.734357              | 0.016168    |</pre>"
      ],
      "text/plain": [
       "| 11      | 331.133ms    | 0.557778          | 0.734357              | 0.016168    |"
      ]
     },
     "metadata": {},
     "output_type": "display_data"
    },
    {
     "data": {
      "text/html": [
       "<pre>| 50      | 1.53s        | 0.443299          | 0.640718              | 0.00519365  |</pre>"
      ],
      "text/plain": [
       "| 50      | 1.53s        | 0.443299          | 0.640718              | 0.00519365  |"
      ]
     },
     "metadata": {},
     "output_type": "display_data"
    },
    {
     "data": {
      "text/html": [
       "<pre>+---------+--------------+-------------------+-----------------------+-------------+</pre>"
      ],
      "text/plain": [
       "+---------+--------------+-------------------+-----------------------+-------------+"
      ]
     },
     "metadata": {},
     "output_type": "display_data"
    },
    {
     "data": {
      "text/html": [
       "<pre>Optimization Complete: Maximum number of passes through the data reached.</pre>"
      ],
      "text/plain": [
       "Optimization Complete: Maximum number of passes through the data reached."
      ]
     },
     "metadata": {},
     "output_type": "display_data"
    },
    {
     "data": {
      "text/html": [
       "<pre>Computing final objective value and training RMSE.</pre>"
      ],
      "text/plain": [
       "Computing final objective value and training RMSE."
      ]
     },
     "metadata": {},
     "output_type": "display_data"
    },
    {
     "data": {
      "text/html": [
       "<pre>       Final objective value: 0.420612</pre>"
      ],
      "text/plain": [
       "       Final objective value: 0.420612"
      ]
     },
     "metadata": {},
     "output_type": "display_data"
    },
    {
     "data": {
      "text/html": [
       "<pre>       Final training RMSE: 0.622762</pre>"
      ],
      "text/plain": [
       "       Final training RMSE: 0.622762"
      ]
     },
     "metadata": {},
     "output_type": "display_data"
    },
    {
     "data": {
      "text/html": [
       "<pre>Recsys training: model = factorization_recommender</pre>"
      ],
      "text/plain": [
       "Recsys training: model = factorization_recommender"
      ]
     },
     "metadata": {},
     "output_type": "display_data"
    },
    {
     "data": {
      "text/html": [
       "<pre>Preparing data set.</pre>"
      ],
      "text/plain": [
       "Preparing data set."
      ]
     },
     "metadata": {},
     "output_type": "display_data"
    },
    {
     "data": {
      "text/html": [
       "<pre>    Data has 46446 observations with 568 users and 1586 items.</pre>"
      ],
      "text/plain": [
       "    Data has 46446 observations with 568 users and 1586 items."
      ]
     },
     "metadata": {},
     "output_type": "display_data"
    },
    {
     "data": {
      "text/html": [
       "<pre>    Data prepared in: 0.026069s</pre>"
      ],
      "text/plain": [
       "    Data prepared in: 0.026069s"
      ]
     },
     "metadata": {},
     "output_type": "display_data"
    },
    {
     "data": {
      "text/html": [
       "<pre>Training factorization_recommender for recommendations.</pre>"
      ],
      "text/plain": [
       "Training factorization_recommender for recommendations."
      ]
     },
     "metadata": {},
     "output_type": "display_data"
    },
    {
     "data": {
      "text/html": [
       "<pre>+--------------------------------+--------------------------------------------------+----------+</pre>"
      ],
      "text/plain": [
       "+--------------------------------+--------------------------------------------------+----------+"
      ]
     },
     "metadata": {},
     "output_type": "display_data"
    },
    {
     "data": {
      "text/html": [
       "<pre>| Parameter                      | Description                                      | Value    |</pre>"
      ],
      "text/plain": [
       "| Parameter                      | Description                                      | Value    |"
      ]
     },
     "metadata": {},
     "output_type": "display_data"
    },
    {
     "data": {
      "text/html": [
       "<pre>+--------------------------------+--------------------------------------------------+----------+</pre>"
      ],
      "text/plain": [
       "+--------------------------------+--------------------------------------------------+----------+"
      ]
     },
     "metadata": {},
     "output_type": "display_data"
    },
    {
     "data": {
      "text/html": [
       "<pre>| num_factors                    | Factor Dimension                                 | 8        |</pre>"
      ],
      "text/plain": [
       "| num_factors                    | Factor Dimension                                 | 8        |"
      ]
     },
     "metadata": {},
     "output_type": "display_data"
    },
    {
     "data": {
      "text/html": [
       "<pre>| regularization                 | L2 Regularization on Factors                     | 0.0001   |</pre>"
      ],
      "text/plain": [
       "| regularization                 | L2 Regularization on Factors                     | 0.0001   |"
      ]
     },
     "metadata": {},
     "output_type": "display_data"
    },
    {
     "data": {
      "text/html": [
       "<pre>| solver                         | Solver used for training                         | sgd      |</pre>"
      ],
      "text/plain": [
       "| solver                         | Solver used for training                         | sgd      |"
      ]
     },
     "metadata": {},
     "output_type": "display_data"
    },
    {
     "data": {
      "text/html": [
       "<pre>| linear_regularization          | L2 Regularization on Linear Coefficients         | 1e-010   |</pre>"
      ],
      "text/plain": [
       "| linear_regularization          | L2 Regularization on Linear Coefficients         | 1e-010   |"
      ]
     },
     "metadata": {},
     "output_type": "display_data"
    },
    {
     "data": {
      "text/html": [
       "<pre>| max_iterations                 | Maximum Number of Iterations                     | 50       |</pre>"
      ],
      "text/plain": [
       "| max_iterations                 | Maximum Number of Iterations                     | 50       |"
      ]
     },
     "metadata": {},
     "output_type": "display_data"
    },
    {
     "data": {
      "text/html": [
       "<pre>+--------------------------------+--------------------------------------------------+----------+</pre>"
      ],
      "text/plain": [
       "+--------------------------------+--------------------------------------------------+----------+"
      ]
     },
     "metadata": {},
     "output_type": "display_data"
    },
    {
     "data": {
      "text/html": [
       "<pre>  Optimizing model using SGD; tuning step size.</pre>"
      ],
      "text/plain": [
       "  Optimizing model using SGD; tuning step size."
      ]
     },
     "metadata": {},
     "output_type": "display_data"
    },
    {
     "data": {
      "text/html": [
       "<pre>  Using 10000 / 46446 points for tuning the step size.</pre>"
      ],
      "text/plain": [
       "  Using 10000 / 46446 points for tuning the step size."
      ]
     },
     "metadata": {},
     "output_type": "display_data"
    },
    {
     "data": {
      "text/html": [
       "<pre>+---------+-------------------+------------------------------------------+</pre>"
      ],
      "text/plain": [
       "+---------+-------------------+------------------------------------------+"
      ]
     },
     "metadata": {},
     "output_type": "display_data"
    },
    {
     "data": {
      "text/html": [
       "<pre>| Attempt | Initial Step Size | Estimated Objective Value                |</pre>"
      ],
      "text/plain": [
       "| Attempt | Initial Step Size | Estimated Objective Value                |"
      ]
     },
     "metadata": {},
     "output_type": "display_data"
    },
    {
     "data": {
      "text/html": [
       "<pre>+---------+-------------------+------------------------------------------+</pre>"
      ],
      "text/plain": [
       "+---------+-------------------+------------------------------------------+"
      ]
     },
     "metadata": {},
     "output_type": "display_data"
    },
    {
     "data": {
      "text/html": [
       "<pre>| 0       | 15.8516           | Not Viable                               |</pre>"
      ],
      "text/plain": [
       "| 0       | 15.8516           | Not Viable                               |"
      ]
     },
     "metadata": {},
     "output_type": "display_data"
    },
    {
     "data": {
      "text/html": [
       "<pre>| 1       | 3.9629            | Not Viable                               |</pre>"
      ],
      "text/plain": [
       "| 1       | 3.9629            | Not Viable                               |"
      ]
     },
     "metadata": {},
     "output_type": "display_data"
    },
    {
     "data": {
      "text/html": [
       "<pre>| 2       | 0.990725          | Not Viable                               |</pre>"
      ],
      "text/plain": [
       "| 2       | 0.990725          | Not Viable                               |"
      ]
     },
     "metadata": {},
     "output_type": "display_data"
    },
    {
     "data": {
      "text/html": [
       "<pre>| 3       | 0.247681          | 0.47001                                  |</pre>"
      ],
      "text/plain": [
       "| 3       | 0.247681          | 0.47001                                  |"
      ]
     },
     "metadata": {},
     "output_type": "display_data"
    },
    {
     "data": {
      "text/html": [
       "<pre>| 4       | 0.123841          | 0.71708                                  |</pre>"
      ],
      "text/plain": [
       "| 4       | 0.123841          | 0.71708                                  |"
      ]
     },
     "metadata": {},
     "output_type": "display_data"
    },
    {
     "data": {
      "text/html": [
       "<pre>| 5       | 0.0619203         | 0.726241                                 |</pre>"
      ],
      "text/plain": [
       "| 5       | 0.0619203         | 0.726241                                 |"
      ]
     },
     "metadata": {},
     "output_type": "display_data"
    },
    {
     "data": {
      "text/html": [
       "<pre>| 6       | 0.0309601         | 0.762626                                 |</pre>"
      ],
      "text/plain": [
       "| 6       | 0.0309601         | 0.762626                                 |"
      ]
     },
     "metadata": {},
     "output_type": "display_data"
    },
    {
     "data": {
      "text/html": [
       "<pre>+---------+-------------------+------------------------------------------+</pre>"
      ],
      "text/plain": [
       "+---------+-------------------+------------------------------------------+"
      ]
     },
     "metadata": {},
     "output_type": "display_data"
    },
    {
     "data": {
      "text/html": [
       "<pre>| Final   | 0.247681          | 0.47001                                  |</pre>"
      ],
      "text/plain": [
       "| Final   | 0.247681          | 0.47001                                  |"
      ]
     },
     "metadata": {},
     "output_type": "display_data"
    },
    {
     "data": {
      "text/html": [
       "<pre>+---------+-------------------+------------------------------------------+</pre>"
      ],
      "text/plain": [
       "+---------+-------------------+------------------------------------------+"
      ]
     },
     "metadata": {},
     "output_type": "display_data"
    },
    {
     "data": {
      "text/html": [
       "<pre>Starting Optimization.</pre>"
      ],
      "text/plain": [
       "Starting Optimization."
      ]
     },
     "metadata": {},
     "output_type": "display_data"
    },
    {
     "data": {
      "text/html": [
       "<pre>+---------+--------------+-------------------+-----------------------+-------------+</pre>"
      ],
      "text/plain": [
       "+---------+--------------+-------------------+-----------------------+-------------+"
      ]
     },
     "metadata": {},
     "output_type": "display_data"
    },
    {
     "data": {
      "text/html": [
       "<pre>| Iter.   | Elapsed Time | Approx. Objective | Approx. Training RMSE | Step Size   |</pre>"
      ],
      "text/plain": [
       "| Iter.   | Elapsed Time | Approx. Objective | Approx. Training RMSE | Step Size   |"
      ]
     },
     "metadata": {},
     "output_type": "display_data"
    },
    {
     "data": {
      "text/html": [
       "<pre>+---------+--------------+-------------------+-----------------------+-------------+</pre>"
      ],
      "text/plain": [
       "+---------+--------------+-------------------+-----------------------+-------------+"
      ]
     },
     "metadata": {},
     "output_type": "display_data"
    },
    {
     "data": {
      "text/html": [
       "<pre>| Initial | 0us          | 1.27003           | 1.12696               |             |</pre>"
      ],
      "text/plain": [
       "| Initial | 0us          | 1.27003           | 1.12696               |             |"
      ]
     },
     "metadata": {},
     "output_type": "display_data"
    },
    {
     "data": {
      "text/html": [
       "<pre>+---------+--------------+-------------------+-----------------------+-------------+</pre>"
      ],
      "text/plain": [
       "+---------+--------------+-------------------+-----------------------+-------------+"
      ]
     },
     "metadata": {},
     "output_type": "display_data"
    },
    {
     "data": {
      "text/html": [
       "<pre>| 1       | 42.101ms     | DIVERGED          | DIVERGED              | 0.247681    |</pre>"
      ],
      "text/plain": [
       "| 1       | 42.101ms     | DIVERGED          | DIVERGED              | 0.247681    |"
      ]
     },
     "metadata": {},
     "output_type": "display_data"
    },
    {
     "data": {
      "text/html": [
       "<pre>| RESET   | 46.111ms     | 1.27004           | 1.12696               |             |</pre>"
      ],
      "text/plain": [
       "| RESET   | 46.111ms     | 1.27004           | 1.12696               |             |"
      ]
     },
     "metadata": {},
     "output_type": "display_data"
    },
    {
     "data": {
      "text/html": [
       "<pre>| 1       | 90.229ms     | DIVERGED          | DIVERGED              | 0.123841    |</pre>"
      ],
      "text/plain": [
       "| 1       | 90.229ms     | DIVERGED          | DIVERGED              | 0.123841    |"
      ]
     },
     "metadata": {},
     "output_type": "display_data"
    },
    {
     "data": {
      "text/html": [
       "<pre>| RESET   | 94.239ms     | 1.27008           | 1.12698               |             |</pre>"
      ],
      "text/plain": [
       "| RESET   | 94.239ms     | 1.27008           | 1.12698               |             |"
      ]
     },
     "metadata": {},
     "output_type": "display_data"
    },
    {
     "data": {
      "text/html": [
       "<pre>| 1       | 120.309ms    | 1.00482           | 1.0024                | 0.0619203   |</pre>"
      ],
      "text/plain": [
       "| 1       | 120.309ms    | 1.00482           | 1.0024                | 0.0619203   |"
      ]
     },
     "metadata": {},
     "output_type": "display_data"
    },
    {
     "data": {
      "text/html": [
       "<pre>| 2       | 165.429ms    | 0.904475          | 0.951035              | 0.036818    |</pre>"
      ],
      "text/plain": [
       "| 2       | 165.429ms    | 0.904475          | 0.951035              | 0.036818    |"
      ]
     },
     "metadata": {},
     "output_type": "display_data"
    },
    {
     "data": {
      "text/html": [
       "<pre>| 3       | 190.495ms    | 0.87526           | 0.935508              | 0.0271639   |</pre>"
      ],
      "text/plain": [
       "| 3       | 190.495ms    | 0.87526           | 0.935508              | 0.0271639   |"
      ]
     },
     "metadata": {},
     "output_type": "display_data"
    },
    {
     "data": {
      "text/html": [
       "<pre>| 4       | 222.581ms    | 0.86101           | 0.927556              | 0.0218921   |</pre>"
      ],
      "text/plain": [
       "| 4       | 222.581ms    | 0.86101           | 0.927556              | 0.0218921   |"
      ]
     },
     "metadata": {},
     "output_type": "display_data"
    },
    {
     "data": {
      "text/html": [
       "<pre>| 5       | 249.652ms    | 0.847846          | 0.919061              | 0.0185185   |</pre>"
      ],
      "text/plain": [
       "| 5       | 249.652ms    | 0.847846          | 0.919061              | 0.0185185   |"
      ]
     },
     "metadata": {},
     "output_type": "display_data"
    },
    {
     "data": {
      "text/html": [
       "<pre>| 6       | 279.732ms    | 0.830644          | 0.906666              | 0.0161517   |</pre>"
      ],
      "text/plain": [
       "| 6       | 279.732ms    | 0.830644          | 0.906666              | 0.0161517   |"
      ]
     },
     "metadata": {},
     "output_type": "display_data"
    },
    {
     "data": {
      "text/html": [
       "<pre>| 11      | 421.961ms    | 0.78029           | 0.866052              | 0.0102515   |</pre>"
      ],
      "text/plain": [
       "| 11      | 421.961ms    | 0.78029           | 0.866052              | 0.0102515   |"
      ]
     },
     "metadata": {},
     "output_type": "display_data"
    },
    {
     "data": {
      "text/html": [
       "<pre>| 48      | 1.49s        | 0.642787          | 0.695835              | 0.00339549  |</pre>"
      ],
      "text/plain": [
       "| 48      | 1.49s        | 0.642787          | 0.695835              | 0.00339549  |"
      ]
     },
     "metadata": {},
     "output_type": "display_data"
    },
    {
     "data": {
      "text/html": [
       "<pre>+---------+--------------+-------------------+-----------------------+-------------+</pre>"
      ],
      "text/plain": [
       "+---------+--------------+-------------------+-----------------------+-------------+"
      ]
     },
     "metadata": {},
     "output_type": "display_data"
    },
    {
     "data": {
      "text/html": [
       "<pre>Optimization Complete: Maximum number of passes through the data reached.</pre>"
      ],
      "text/plain": [
       "Optimization Complete: Maximum number of passes through the data reached."
      ]
     },
     "metadata": {},
     "output_type": "display_data"
    },
    {
     "data": {
      "text/html": [
       "<pre>Computing final objective value and training RMSE.</pre>"
      ],
      "text/plain": [
       "Computing final objective value and training RMSE."
      ]
     },
     "metadata": {},
     "output_type": "display_data"
    },
    {
     "data": {
      "text/html": [
       "<pre>       Final objective value: 0.630271</pre>"
      ],
      "text/plain": [
       "       Final objective value: 0.630271"
      ]
     },
     "metadata": {},
     "output_type": "display_data"
    },
    {
     "data": {
      "text/html": [
       "<pre>       Final training RMSE: 0.684838</pre>"
      ],
      "text/plain": [
       "       Final training RMSE: 0.684838"
      ]
     },
     "metadata": {},
     "output_type": "display_data"
    },
    {
     "data": {
      "text/html": [
       "<pre>Recsys training: model = factorization_recommender</pre>"
      ],
      "text/plain": [
       "Recsys training: model = factorization_recommender"
      ]
     },
     "metadata": {},
     "output_type": "display_data"
    },
    {
     "data": {
      "text/html": [
       "<pre>Preparing data set.</pre>"
      ],
      "text/plain": [
       "Preparing data set."
      ]
     },
     "metadata": {},
     "output_type": "display_data"
    },
    {
     "data": {
      "text/html": [
       "<pre>    Data has 46446 observations with 568 users and 1586 items.</pre>"
      ],
      "text/plain": [
       "    Data has 46446 observations with 568 users and 1586 items."
      ]
     },
     "metadata": {},
     "output_type": "display_data"
    },
    {
     "data": {
      "text/html": [
       "<pre>    Data prepared in: 0.026069s</pre>"
      ],
      "text/plain": [
       "    Data prepared in: 0.026069s"
      ]
     },
     "metadata": {},
     "output_type": "display_data"
    },
    {
     "data": {
      "text/html": [
       "<pre>Training factorization_recommender for recommendations.</pre>"
      ],
      "text/plain": [
       "Training factorization_recommender for recommendations."
      ]
     },
     "metadata": {},
     "output_type": "display_data"
    },
    {
     "data": {
      "text/html": [
       "<pre>+--------------------------------+--------------------------------------------------+----------+</pre>"
      ],
      "text/plain": [
       "+--------------------------------+--------------------------------------------------+----------+"
      ]
     },
     "metadata": {},
     "output_type": "display_data"
    },
    {
     "data": {
      "text/html": [
       "<pre>| Parameter                      | Description                                      | Value    |</pre>"
      ],
      "text/plain": [
       "| Parameter                      | Description                                      | Value    |"
      ]
     },
     "metadata": {},
     "output_type": "display_data"
    },
    {
     "data": {
      "text/html": [
       "<pre>+--------------------------------+--------------------------------------------------+----------+</pre>"
      ],
      "text/plain": [
       "+--------------------------------+--------------------------------------------------+----------+"
      ]
     },
     "metadata": {},
     "output_type": "display_data"
    },
    {
     "data": {
      "text/html": [
       "<pre>| num_factors                    | Factor Dimension                                 | 8        |</pre>"
      ],
      "text/plain": [
       "| num_factors                    | Factor Dimension                                 | 8        |"
      ]
     },
     "metadata": {},
     "output_type": "display_data"
    },
    {
     "data": {
      "text/html": [
       "<pre>| regularization                 | L2 Regularization on Factors                     | 0.001    |</pre>"
      ],
      "text/plain": [
       "| regularization                 | L2 Regularization on Factors                     | 0.001    |"
      ]
     },
     "metadata": {},
     "output_type": "display_data"
    },
    {
     "data": {
      "text/html": [
       "<pre>| solver                         | Solver used for training                         | sgd      |</pre>"
      ],
      "text/plain": [
       "| solver                         | Solver used for training                         | sgd      |"
      ]
     },
     "metadata": {},
     "output_type": "display_data"
    },
    {
     "data": {
      "text/html": [
       "<pre>| linear_regularization          | L2 Regularization on Linear Coefficients         | 1e-010   |</pre>"
      ],
      "text/plain": [
       "| linear_regularization          | L2 Regularization on Linear Coefficients         | 1e-010   |"
      ]
     },
     "metadata": {},
     "output_type": "display_data"
    },
    {
     "data": {
      "text/html": [
       "<pre>| max_iterations                 | Maximum Number of Iterations                     | 50       |</pre>"
      ],
      "text/plain": [
       "| max_iterations                 | Maximum Number of Iterations                     | 50       |"
      ]
     },
     "metadata": {},
     "output_type": "display_data"
    },
    {
     "data": {
      "text/html": [
       "<pre>+--------------------------------+--------------------------------------------------+----------+</pre>"
      ],
      "text/plain": [
       "+--------------------------------+--------------------------------------------------+----------+"
      ]
     },
     "metadata": {},
     "output_type": "display_data"
    },
    {
     "data": {
      "text/html": [
       "<pre>  Optimizing model using SGD; tuning step size.</pre>"
      ],
      "text/plain": [
       "  Optimizing model using SGD; tuning step size."
      ]
     },
     "metadata": {},
     "output_type": "display_data"
    },
    {
     "data": {
      "text/html": [
       "<pre>  Using 10000 / 46446 points for tuning the step size.</pre>"
      ],
      "text/plain": [
       "  Using 10000 / 46446 points for tuning the step size."
      ]
     },
     "metadata": {},
     "output_type": "display_data"
    },
    {
     "data": {
      "text/html": [
       "<pre>+---------+-------------------+------------------------------------------+</pre>"
      ],
      "text/plain": [
       "+---------+-------------------+------------------------------------------+"
      ]
     },
     "metadata": {},
     "output_type": "display_data"
    },
    {
     "data": {
      "text/html": [
       "<pre>| Attempt | Initial Step Size | Estimated Objective Value                |</pre>"
      ],
      "text/plain": [
       "| Attempt | Initial Step Size | Estimated Objective Value                |"
      ]
     },
     "metadata": {},
     "output_type": "display_data"
    },
    {
     "data": {
      "text/html": [
       "<pre>+---------+-------------------+------------------------------------------+</pre>"
      ],
      "text/plain": [
       "+---------+-------------------+------------------------------------------+"
      ]
     },
     "metadata": {},
     "output_type": "display_data"
    },
    {
     "data": {
      "text/html": [
       "<pre>| 0       | 1.58516           | Not Viable                               |</pre>"
      ],
      "text/plain": [
       "| 0       | 1.58516           | Not Viable                               |"
      ]
     },
     "metadata": {},
     "output_type": "display_data"
    },
    {
     "data": {
      "text/html": [
       "<pre>| 1       | 0.39629           | Not Viable                               |</pre>"
      ],
      "text/plain": [
       "| 1       | 0.39629           | Not Viable                               |"
      ]
     },
     "metadata": {},
     "output_type": "display_data"
    },
    {
     "data": {
      "text/html": [
       "<pre>| 2       | 0.0990725         | 0.737985                                 |</pre>"
      ],
      "text/plain": [
       "| 2       | 0.0990725         | 0.737985                                 |"
      ]
     },
     "metadata": {},
     "output_type": "display_data"
    },
    {
     "data": {
      "text/html": [
       "<pre>| 3       | 0.0495362         | 0.761744                                 |</pre>"
      ],
      "text/plain": [
       "| 3       | 0.0495362         | 0.761744                                 |"
      ]
     },
     "metadata": {},
     "output_type": "display_data"
    },
    {
     "data": {
      "text/html": [
       "<pre>| 4       | 0.0247681         | 0.796628                                 |</pre>"
      ],
      "text/plain": [
       "| 4       | 0.0247681         | 0.796628                                 |"
      ]
     },
     "metadata": {},
     "output_type": "display_data"
    },
    {
     "data": {
      "text/html": [
       "<pre>| 5       | 0.0123841         | 0.845146                                 |</pre>"
      ],
      "text/plain": [
       "| 5       | 0.0123841         | 0.845146                                 |"
      ]
     },
     "metadata": {},
     "output_type": "display_data"
    },
    {
     "data": {
      "text/html": [
       "<pre>+---------+-------------------+------------------------------------------+</pre>"
      ],
      "text/plain": [
       "+---------+-------------------+------------------------------------------+"
      ]
     },
     "metadata": {},
     "output_type": "display_data"
    },
    {
     "data": {
      "text/html": [
       "<pre>| Final   | 0.0990725         | 0.737985                                 |</pre>"
      ],
      "text/plain": [
       "| Final   | 0.0990725         | 0.737985                                 |"
      ]
     },
     "metadata": {},
     "output_type": "display_data"
    },
    {
     "data": {
      "text/html": [
       "<pre>+---------+-------------------+------------------------------------------+</pre>"
      ],
      "text/plain": [
       "+---------+-------------------+------------------------------------------+"
      ]
     },
     "metadata": {},
     "output_type": "display_data"
    },
    {
     "data": {
      "text/html": [
       "<pre>Starting Optimization.</pre>"
      ],
      "text/plain": [
       "Starting Optimization."
      ]
     },
     "metadata": {},
     "output_type": "display_data"
    },
    {
     "data": {
      "text/html": [
       "<pre>+---------+--------------+-------------------+-----------------------+-------------+</pre>"
      ],
      "text/plain": [
       "+---------+--------------+-------------------+-----------------------+-------------+"
      ]
     },
     "metadata": {},
     "output_type": "display_data"
    },
    {
     "data": {
      "text/html": [
       "<pre>| Iter.   | Elapsed Time | Approx. Objective | Approx. Training RMSE | Step Size   |</pre>"
      ],
      "text/plain": [
       "| Iter.   | Elapsed Time | Approx. Objective | Approx. Training RMSE | Step Size   |"
      ]
     },
     "metadata": {},
     "output_type": "display_data"
    },
    {
     "data": {
      "text/html": [
       "<pre>+---------+--------------+-------------------+-----------------------+-------------+</pre>"
      ],
      "text/plain": [
       "+---------+--------------+-------------------+-----------------------+-------------+"
      ]
     },
     "metadata": {},
     "output_type": "display_data"
    },
    {
     "data": {
      "text/html": [
       "<pre>| Initial | 0us          | 1.27003           | 1.12696               |             |</pre>"
      ],
      "text/plain": [
       "| Initial | 0us          | 1.27003           | 1.12696               |             |"
      ]
     },
     "metadata": {},
     "output_type": "display_data"
    },
    {
     "data": {
      "text/html": [
       "<pre>+---------+--------------+-------------------+-----------------------+-------------+</pre>"
      ],
      "text/plain": [
       "+---------+--------------+-------------------+-----------------------+-------------+"
      ]
     },
     "metadata": {},
     "output_type": "display_data"
    },
    {
     "data": {
      "text/html": [
       "<pre>| 1       | 37.805ms     | DIVERGED          | DIVERGED              | 0.0990725   |</pre>"
      ],
      "text/plain": [
       "| 1       | 37.805ms     | DIVERGED          | DIVERGED              | 0.0990725   |"
      ]
     },
     "metadata": {},
     "output_type": "display_data"
    },
    {
     "data": {
      "text/html": [
       "<pre>| RESET   | 42.818ms     | 1.27007           | 1.12697               |             |</pre>"
      ],
      "text/plain": [
       "| RESET   | 42.818ms     | 1.27007           | 1.12697               |             |"
      ]
     },
     "metadata": {},
     "output_type": "display_data"
    },
    {
     "data": {
      "text/html": [
       "<pre>| 1       | 78.915ms     | DIVERGED          | DIVERGED              | 0.0495362   |</pre>"
      ],
      "text/plain": [
       "| 1       | 78.915ms     | DIVERGED          | DIVERGED              | 0.0495362   |"
      ]
     },
     "metadata": {},
     "output_type": "display_data"
    },
    {
     "data": {
      "text/html": [
       "<pre>| RESET   | 81.922ms     | 1.27003           | 1.12696               |             |</pre>"
      ],
      "text/plain": [
       "| RESET   | 81.922ms     | 1.27003           | 1.12696               |             |"
      ]
     },
     "metadata": {},
     "output_type": "display_data"
    },
    {
     "data": {
      "text/html": [
       "<pre>| 1       | 113.005ms    | 0.971543          | 0.985668              | 0.0247681   |</pre>"
      ],
      "text/plain": [
       "| 1       | 113.005ms    | 0.971543          | 0.985668              | 0.0247681   |"
      ]
     },
     "metadata": {},
     "output_type": "display_data"
    },
    {
     "data": {
      "text/html": [
       "<pre>| 2       | 119.021ms    | 0.870275          | 0.932885              | 0.011518    |</pre>"
      ],
      "text/plain": [
       "| 2       | 119.021ms    | 0.870275          | 0.932885              | 0.011518    |"
      ]
     },
     "metadata": {},
     "output_type": "display_data"
    },
    {
     "data": {
      "text/html": [
       "<pre>| 3       | 154.114ms    | 0.84842           | 0.921097              | 0.00750376  |</pre>"
      ],
      "text/plain": [
       "| 3       | 154.114ms    | 0.84842           | 0.921097              | 0.00750376  |"
      ]
     },
     "metadata": {},
     "output_type": "display_data"
    },
    {
     "data": {
      "text/html": [
       "<pre>| 4       | 179.18ms     | 0.83842           | 0.915653              | 0.00556444  |</pre>"
      ],
      "text/plain": [
       "| 4       | 179.18ms     | 0.83842           | 0.915653              | 0.00556444  |"
      ]
     },
     "metadata": {},
     "output_type": "display_data"
    },
    {
     "data": {
      "text/html": [
       "<pre>| 5       | 209.262ms    | 0.832901          | 0.912634              | 0.00442168  |</pre>"
      ],
      "text/plain": [
       "| 5       | 209.262ms    | 0.832901          | 0.912634              | 0.00442168  |"
      ]
     },
     "metadata": {},
     "output_type": "display_data"
    },
    {
     "data": {
      "text/html": [
       "<pre>| 6       | 235.33ms     | 0.829026          | 0.910509              | 0.00366832  |</pre>"
      ],
      "text/plain": [
       "| 6       | 235.33ms     | 0.829026          | 0.910509              | 0.00366832  |"
      ]
     },
     "metadata": {},
     "output_type": "display_data"
    },
    {
     "data": {
      "text/html": [
       "<pre>| 11      | 347.629ms    | 0.820531          | 0.905832              | 0.00198085  |</pre>"
      ],
      "text/plain": [
       "| 11      | 347.629ms    | 0.820531          | 0.905832              | 0.00198085  |"
      ]
     },
     "metadata": {},
     "output_type": "display_data"
    },
    {
     "data": {
      "text/html": [
       "<pre>| 48      | 1.63s        | 0.811112          | 0.900618              | 0.000449774 |</pre>"
      ],
      "text/plain": [
       "| 48      | 1.63s        | 0.811112          | 0.900618              | 0.000449774 |"
      ]
     },
     "metadata": {},
     "output_type": "display_data"
    },
    {
     "data": {
      "text/html": [
       "<pre>+---------+--------------+-------------------+-----------------------+-------------+</pre>"
      ],
      "text/plain": [
       "+---------+--------------+-------------------+-----------------------+-------------+"
      ]
     },
     "metadata": {},
     "output_type": "display_data"
    },
    {
     "data": {
      "text/html": [
       "<pre>Optimization Complete: Maximum number of passes through the data reached.</pre>"
      ],
      "text/plain": [
       "Optimization Complete: Maximum number of passes through the data reached."
      ]
     },
     "metadata": {},
     "output_type": "display_data"
    },
    {
     "data": {
      "text/html": [
       "<pre>Computing final objective value and training RMSE.</pre>"
      ],
      "text/plain": [
       "Computing final objective value and training RMSE."
      ]
     },
     "metadata": {},
     "output_type": "display_data"
    },
    {
     "data": {
      "text/html": [
       "<pre>       Final objective value: 0.809568</pre>"
      ],
      "text/plain": [
       "       Final objective value: 0.809568"
      ]
     },
     "metadata": {},
     "output_type": "display_data"
    },
    {
     "data": {
      "text/html": [
       "<pre>       Final training RMSE: 0.89976</pre>"
      ],
      "text/plain": [
       "       Final training RMSE: 0.89976"
      ]
     },
     "metadata": {},
     "output_type": "display_data"
    },
    {
     "data": {
      "text/html": [
       "<pre>Recsys training: model = factorization_recommender</pre>"
      ],
      "text/plain": [
       "Recsys training: model = factorization_recommender"
      ]
     },
     "metadata": {},
     "output_type": "display_data"
    },
    {
     "data": {
      "text/html": [
       "<pre>Preparing data set.</pre>"
      ],
      "text/plain": [
       "Preparing data set."
      ]
     },
     "metadata": {},
     "output_type": "display_data"
    },
    {
     "data": {
      "text/html": [
       "<pre>    Data has 46446 observations with 568 users and 1586 items.</pre>"
      ],
      "text/plain": [
       "    Data has 46446 observations with 568 users and 1586 items."
      ]
     },
     "metadata": {},
     "output_type": "display_data"
    },
    {
     "data": {
      "text/html": [
       "<pre>    Data prepared in: 0.02939s</pre>"
      ],
      "text/plain": [
       "    Data prepared in: 0.02939s"
      ]
     },
     "metadata": {},
     "output_type": "display_data"
    },
    {
     "data": {
      "text/html": [
       "<pre>Training factorization_recommender for recommendations.</pre>"
      ],
      "text/plain": [
       "Training factorization_recommender for recommendations."
      ]
     },
     "metadata": {},
     "output_type": "display_data"
    },
    {
     "data": {
      "text/html": [
       "<pre>+--------------------------------+--------------------------------------------------+----------+</pre>"
      ],
      "text/plain": [
       "+--------------------------------+--------------------------------------------------+----------+"
      ]
     },
     "metadata": {},
     "output_type": "display_data"
    },
    {
     "data": {
      "text/html": [
       "<pre>| Parameter                      | Description                                      | Value    |</pre>"
      ],
      "text/plain": [
       "| Parameter                      | Description                                      | Value    |"
      ]
     },
     "metadata": {},
     "output_type": "display_data"
    },
    {
     "data": {
      "text/html": [
       "<pre>+--------------------------------+--------------------------------------------------+----------+</pre>"
      ],
      "text/plain": [
       "+--------------------------------+--------------------------------------------------+----------+"
      ]
     },
     "metadata": {},
     "output_type": "display_data"
    },
    {
     "data": {
      "text/html": [
       "<pre>| num_factors                    | Factor Dimension                                 | 8        |</pre>"
      ],
      "text/plain": [
       "| num_factors                    | Factor Dimension                                 | 8        |"
      ]
     },
     "metadata": {},
     "output_type": "display_data"
    },
    {
     "data": {
      "text/html": [
       "<pre>| regularization                 | L2 Regularization on Factors                     | 0.01     |</pre>"
      ],
      "text/plain": [
       "| regularization                 | L2 Regularization on Factors                     | 0.01     |"
      ]
     },
     "metadata": {},
     "output_type": "display_data"
    },
    {
     "data": {
      "text/html": [
       "<pre>| solver                         | Solver used for training                         | sgd      |</pre>"
      ],
      "text/plain": [
       "| solver                         | Solver used for training                         | sgd      |"
      ]
     },
     "metadata": {},
     "output_type": "display_data"
    },
    {
     "data": {
      "text/html": [
       "<pre>| linear_regularization          | L2 Regularization on Linear Coefficients         | 1e-010   |</pre>"
      ],
      "text/plain": [
       "| linear_regularization          | L2 Regularization on Linear Coefficients         | 1e-010   |"
      ]
     },
     "metadata": {},
     "output_type": "display_data"
    },
    {
     "data": {
      "text/html": [
       "<pre>| max_iterations                 | Maximum Number of Iterations                     | 50       |</pre>"
      ],
      "text/plain": [
       "| max_iterations                 | Maximum Number of Iterations                     | 50       |"
      ]
     },
     "metadata": {},
     "output_type": "display_data"
    },
    {
     "data": {
      "text/html": [
       "<pre>+--------------------------------+--------------------------------------------------+----------+</pre>"
      ],
      "text/plain": [
       "+--------------------------------+--------------------------------------------------+----------+"
      ]
     },
     "metadata": {},
     "output_type": "display_data"
    },
    {
     "data": {
      "text/html": [
       "<pre>  Optimizing model using SGD; tuning step size.</pre>"
      ],
      "text/plain": [
       "  Optimizing model using SGD; tuning step size."
      ]
     },
     "metadata": {},
     "output_type": "display_data"
    },
    {
     "data": {
      "text/html": [
       "<pre>  Using 10000 / 46446 points for tuning the step size.</pre>"
      ],
      "text/plain": [
       "  Using 10000 / 46446 points for tuning the step size."
      ]
     },
     "metadata": {},
     "output_type": "display_data"
    },
    {
     "data": {
      "text/html": [
       "<pre>+---------+-------------------+------------------------------------------+</pre>"
      ],
      "text/plain": [
       "+---------+-------------------+------------------------------------------+"
      ]
     },
     "metadata": {},
     "output_type": "display_data"
    },
    {
     "data": {
      "text/html": [
       "<pre>| Attempt | Initial Step Size | Estimated Objective Value                |</pre>"
      ],
      "text/plain": [
       "| Attempt | Initial Step Size | Estimated Objective Value                |"
      ]
     },
     "metadata": {},
     "output_type": "display_data"
    },
    {
     "data": {
      "text/html": [
       "<pre>+---------+-------------------+------------------------------------------+</pre>"
      ],
      "text/plain": [
       "+---------+-------------------+------------------------------------------+"
      ]
     },
     "metadata": {},
     "output_type": "display_data"
    },
    {
     "data": {
      "text/html": [
       "<pre>| 0       | 0.158516          | Not Viable                               |</pre>"
      ],
      "text/plain": [
       "| 0       | 0.158516          | Not Viable                               |"
      ]
     },
     "metadata": {},
     "output_type": "display_data"
    },
    {
     "data": {
      "text/html": [
       "<pre>| 1       | 0.039629          | Not Viable                               |</pre>"
      ],
      "text/plain": [
       "| 1       | 0.039629          | Not Viable                               |"
      ]
     },
     "metadata": {},
     "output_type": "display_data"
    },
    {
     "data": {
      "text/html": [
       "<pre>| 2       | 0.00990725        | 0.959854                                 |</pre>"
      ],
      "text/plain": [
       "| 2       | 0.00990725        | 0.959854                                 |"
      ]
     },
     "metadata": {},
     "output_type": "display_data"
    },
    {
     "data": {
      "text/html": [
       "<pre>| 3       | 0.00495362        | 1.03167                                  |</pre>"
      ],
      "text/plain": [
       "| 3       | 0.00495362        | 1.03167                                  |"
      ]
     },
     "metadata": {},
     "output_type": "display_data"
    },
    {
     "data": {
      "text/html": [
       "<pre>| 4       | 0.00247681        | 1.09306                                  |</pre>"
      ],
      "text/plain": [
       "| 4       | 0.00247681        | 1.09306                                  |"
      ]
     },
     "metadata": {},
     "output_type": "display_data"
    },
    {
     "data": {
      "text/html": [
       "<pre>| 5       | 0.00123841        | 1.14781                                  |</pre>"
      ],
      "text/plain": [
       "| 5       | 0.00123841        | 1.14781                                  |"
      ]
     },
     "metadata": {},
     "output_type": "display_data"
    },
    {
     "data": {
      "text/html": [
       "<pre>+---------+-------------------+------------------------------------------+</pre>"
      ],
      "text/plain": [
       "+---------+-------------------+------------------------------------------+"
      ]
     },
     "metadata": {},
     "output_type": "display_data"
    },
    {
     "data": {
      "text/html": [
       "<pre>| Final   | 0.00990725        | 0.959854                                 |</pre>"
      ],
      "text/plain": [
       "| Final   | 0.00990725        | 0.959854                                 |"
      ]
     },
     "metadata": {},
     "output_type": "display_data"
    },
    {
     "data": {
      "text/html": [
       "<pre>+---------+-------------------+------------------------------------------+</pre>"
      ],
      "text/plain": [
       "+---------+-------------------+------------------------------------------+"
      ]
     },
     "metadata": {},
     "output_type": "display_data"
    },
    {
     "data": {
      "text/html": [
       "<pre>Starting Optimization.</pre>"
      ],
      "text/plain": [
       "Starting Optimization."
      ]
     },
     "metadata": {},
     "output_type": "display_data"
    },
    {
     "data": {
      "text/html": [
       "<pre>+---------+--------------+-------------------+-----------------------+-------------+</pre>"
      ],
      "text/plain": [
       "+---------+--------------+-------------------+-----------------------+-------------+"
      ]
     },
     "metadata": {},
     "output_type": "display_data"
    },
    {
     "data": {
      "text/html": [
       "<pre>| Iter.   | Elapsed Time | Approx. Objective | Approx. Training RMSE | Step Size   |</pre>"
      ],
      "text/plain": [
       "| Iter.   | Elapsed Time | Approx. Objective | Approx. Training RMSE | Step Size   |"
      ]
     },
     "metadata": {},
     "output_type": "display_data"
    },
    {
     "data": {
      "text/html": [
       "<pre>+---------+--------------+-------------------+-----------------------+-------------+</pre>"
      ],
      "text/plain": [
       "+---------+--------------+-------------------+-----------------------+-------------+"
      ]
     },
     "metadata": {},
     "output_type": "display_data"
    },
    {
     "data": {
      "text/html": [
       "<pre>| Initial | 0us          | 1.27004           | 1.12696               |             |</pre>"
      ],
      "text/plain": [
       "| Initial | 0us          | 1.27004           | 1.12696               |             |"
      ]
     },
     "metadata": {},
     "output_type": "display_data"
    },
    {
     "data": {
      "text/html": [
       "<pre>+---------+--------------+-------------------+-----------------------+-------------+</pre>"
      ],
      "text/plain": [
       "+---------+--------------+-------------------+-----------------------+-------------+"
      ]
     },
     "metadata": {},
     "output_type": "display_data"
    },
    {
     "data": {
      "text/html": [
       "<pre>| 1       | 37.035ms     | DIVERGED          | DIVERGED              | 0.00990725  |</pre>"
      ],
      "text/plain": [
       "| 1       | 37.035ms     | DIVERGED          | DIVERGED              | 0.00990725  |"
      ]
     },
     "metadata": {},
     "output_type": "display_data"
    },
    {
     "data": {
      "text/html": [
       "<pre>| RESET   | 41ms         | 1.27009           | 1.12698               |             |</pre>"
      ],
      "text/plain": [
       "| RESET   | 41ms         | 1.27009           | 1.12698               |             |"
      ]
     },
     "metadata": {},
     "output_type": "display_data"
    },
    {
     "data": {
      "text/html": [
       "<pre>| 1       | 94.141ms     | 1.06825           | 1.03356               | 0.00495362  |</pre>"
      ],
      "text/plain": [
       "| 1       | 94.141ms     | 1.06825           | 1.03356               | 0.00495362  |"
      ]
     },
     "metadata": {},
     "output_type": "display_data"
    },
    {
     "data": {
      "text/html": [
       "<pre>| 2       | 126.226ms    | 0.943172          | 0.97117               | 0.00150075  |</pre>"
      ],
      "text/plain": [
       "| 2       | 126.226ms    | 0.943172          | 0.97117               | 0.00150075  |"
      ]
     },
     "metadata": {},
     "output_type": "display_data"
    },
    {
     "data": {
      "text/html": [
       "<pre>| 3       | 148.285ms    | 0.923358          | 0.960915              | 0.000884336 |</pre>"
      ],
      "text/plain": [
       "| 3       | 148.285ms    | 0.923358          | 0.960915              | 0.000884336 |"
      ]
     },
     "metadata": {},
     "output_type": "display_data"
    },
    {
     "data": {
      "text/html": [
       "<pre>| 4       | 191.399ms    | 0.913705          | 0.955879              | 0.00062686  |</pre>"
      ],
      "text/plain": [
       "| 4       | 191.399ms    | 0.913705          | 0.955879              | 0.00062686  |"
      ]
     },
     "metadata": {},
     "output_type": "display_data"
    },
    {
     "data": {
      "text/html": [
       "<pre>| 5       | 222.483ms    | 0.907566          | 0.952663              | 0.000485505 |</pre>"
      ],
      "text/plain": [
       "| 5       | 222.483ms    | 0.907566          | 0.952663              | 0.000485505 |"
      ]
     },
     "metadata": {},
     "output_type": "display_data"
    },
    {
     "data": {
      "text/html": [
       "<pre>| 6       | 261.586ms    | 0.903193          | 0.950364              | 0.000396169 |</pre>"
      ],
      "text/plain": [
       "| 6       | 261.586ms    | 0.903193          | 0.950364              | 0.000396169 |"
      ]
     },
     "metadata": {},
     "output_type": "display_data"
    },
    {
     "data": {
      "text/html": [
       "<pre>| 11      | 457.285ms    | 0.891475          | 0.94418               | 0.000206336 |</pre>"
      ],
      "text/plain": [
       "| 11      | 457.285ms    | 0.891475          | 0.94418               | 0.000206336 |"
      ]
     },
     "metadata": {},
     "output_type": "display_data"
    },
    {
     "data": {
      "text/html": [
       "<pre>| 49      | 1.62s        | 0.872489          | 0.934071              |             |</pre>"
      ],
      "text/plain": [
       "| 49      | 1.62s        | 0.872489          | 0.934071              |             |"
      ]
     },
     "metadata": {},
     "output_type": "display_data"
    },
    {
     "data": {
      "text/html": [
       "<pre>+---------+--------------+-------------------+-----------------------+-------------+</pre>"
      ],
      "text/plain": [
       "+---------+--------------+-------------------+-----------------------+-------------+"
      ]
     },
     "metadata": {},
     "output_type": "display_data"
    },
    {
     "data": {
      "text/html": [
       "<pre>Optimization Complete: Maximum number of passes through the data reached.</pre>"
      ],
      "text/plain": [
       "Optimization Complete: Maximum number of passes through the data reached."
      ]
     },
     "metadata": {},
     "output_type": "display_data"
    },
    {
     "data": {
      "text/html": [
       "<pre>Computing final objective value and training RMSE.</pre>"
      ],
      "text/plain": [
       "Computing final objective value and training RMSE."
      ]
     },
     "metadata": {},
     "output_type": "display_data"
    },
    {
     "data": {
      "text/html": [
       "<pre>       Final objective value: 0.872042</pre>"
      ],
      "text/plain": [
       "       Final objective value: 0.872042"
      ]
     },
     "metadata": {},
     "output_type": "display_data"
    },
    {
     "data": {
      "text/html": [
       "<pre>       Final training RMSE: 0.933832</pre>"
      ],
      "text/plain": [
       "       Final training RMSE: 0.933832"
      ]
     },
     "metadata": {},
     "output_type": "display_data"
    },
    {
     "data": {
      "text/html": [
       "<pre>Recsys training: model = factorization_recommender</pre>"
      ],
      "text/plain": [
       "Recsys training: model = factorization_recommender"
      ]
     },
     "metadata": {},
     "output_type": "display_data"
    },
    {
     "data": {
      "text/html": [
       "<pre>Preparing data set.</pre>"
      ],
      "text/plain": [
       "Preparing data set."
      ]
     },
     "metadata": {},
     "output_type": "display_data"
    },
    {
     "data": {
      "text/html": [
       "<pre>    Data has 46446 observations with 568 users and 1586 items.</pre>"
      ],
      "text/plain": [
       "    Data has 46446 observations with 568 users and 1586 items."
      ]
     },
     "metadata": {},
     "output_type": "display_data"
    },
    {
     "data": {
      "text/html": [
       "<pre>    Data prepared in: 0.027072s</pre>"
      ],
      "text/plain": [
       "    Data prepared in: 0.027072s"
      ]
     },
     "metadata": {},
     "output_type": "display_data"
    },
    {
     "data": {
      "text/html": [
       "<pre>Training factorization_recommender for recommendations.</pre>"
      ],
      "text/plain": [
       "Training factorization_recommender for recommendations."
      ]
     },
     "metadata": {},
     "output_type": "display_data"
    },
    {
     "data": {
      "text/html": [
       "<pre>+--------------------------------+--------------------------------------------------+----------+</pre>"
      ],
      "text/plain": [
       "+--------------------------------+--------------------------------------------------+----------+"
      ]
     },
     "metadata": {},
     "output_type": "display_data"
    },
    {
     "data": {
      "text/html": [
       "<pre>| Parameter                      | Description                                      | Value    |</pre>"
      ],
      "text/plain": [
       "| Parameter                      | Description                                      | Value    |"
      ]
     },
     "metadata": {},
     "output_type": "display_data"
    },
    {
     "data": {
      "text/html": [
       "<pre>+--------------------------------+--------------------------------------------------+----------+</pre>"
      ],
      "text/plain": [
       "+--------------------------------+--------------------------------------------------+----------+"
      ]
     },
     "metadata": {},
     "output_type": "display_data"
    },
    {
     "data": {
      "text/html": [
       "<pre>| num_factors                    | Factor Dimension                                 | 8        |</pre>"
      ],
      "text/plain": [
       "| num_factors                    | Factor Dimension                                 | 8        |"
      ]
     },
     "metadata": {},
     "output_type": "display_data"
    },
    {
     "data": {
      "text/html": [
       "<pre>| regularization                 | L2 Regularization on Factors                     | 0.1      |</pre>"
      ],
      "text/plain": [
       "| regularization                 | L2 Regularization on Factors                     | 0.1      |"
      ]
     },
     "metadata": {},
     "output_type": "display_data"
    },
    {
     "data": {
      "text/html": [
       "<pre>| solver                         | Solver used for training                         | sgd      |</pre>"
      ],
      "text/plain": [
       "| solver                         | Solver used for training                         | sgd      |"
      ]
     },
     "metadata": {},
     "output_type": "display_data"
    },
    {
     "data": {
      "text/html": [
       "<pre>| linear_regularization          | L2 Regularization on Linear Coefficients         | 1e-010   |</pre>"
      ],
      "text/plain": [
       "| linear_regularization          | L2 Regularization on Linear Coefficients         | 1e-010   |"
      ]
     },
     "metadata": {},
     "output_type": "display_data"
    },
    {
     "data": {
      "text/html": [
       "<pre>| max_iterations                 | Maximum Number of Iterations                     | 50       |</pre>"
      ],
      "text/plain": [
       "| max_iterations                 | Maximum Number of Iterations                     | 50       |"
      ]
     },
     "metadata": {},
     "output_type": "display_data"
    },
    {
     "data": {
      "text/html": [
       "<pre>+--------------------------------+--------------------------------------------------+----------+</pre>"
      ],
      "text/plain": [
       "+--------------------------------+--------------------------------------------------+----------+"
      ]
     },
     "metadata": {},
     "output_type": "display_data"
    },
    {
     "data": {
      "text/html": [
       "<pre>  Optimizing model using SGD; tuning step size.</pre>"
      ],
      "text/plain": [
       "  Optimizing model using SGD; tuning step size."
      ]
     },
     "metadata": {},
     "output_type": "display_data"
    },
    {
     "data": {
      "text/html": [
       "<pre>  Using 10000 / 46446 points for tuning the step size.</pre>"
      ],
      "text/plain": [
       "  Using 10000 / 46446 points for tuning the step size."
      ]
     },
     "metadata": {},
     "output_type": "display_data"
    },
    {
     "data": {
      "text/html": [
       "<pre>+---------+-------------------+------------------------------------------+</pre>"
      ],
      "text/plain": [
       "+---------+-------------------+------------------------------------------+"
      ]
     },
     "metadata": {},
     "output_type": "display_data"
    },
    {
     "data": {
      "text/html": [
       "<pre>| Attempt | Initial Step Size | Estimated Objective Value                |</pre>"
      ],
      "text/plain": [
       "| Attempt | Initial Step Size | Estimated Objective Value                |"
      ]
     },
     "metadata": {},
     "output_type": "display_data"
    },
    {
     "data": {
      "text/html": [
       "<pre>+---------+-------------------+------------------------------------------+</pre>"
      ],
      "text/plain": [
       "+---------+-------------------+------------------------------------------+"
      ]
     },
     "metadata": {},
     "output_type": "display_data"
    },
    {
     "data": {
      "text/html": [
       "<pre>| 0       | 0.0158516         | Not Viable                               |</pre>"
      ],
      "text/plain": [
       "| 0       | 0.0158516         | Not Viable                               |"
      ]
     },
     "metadata": {},
     "output_type": "display_data"
    },
    {
     "data": {
      "text/html": [
       "<pre>| 1       | 0.0039629         | 1.11765                                  |</pre>"
      ],
      "text/plain": [
       "| 1       | 0.0039629         | 1.11765                                  |"
      ]
     },
     "metadata": {},
     "output_type": "display_data"
    },
    {
     "data": {
      "text/html": [
       "<pre>| 2       | 0.00198145        | 1.17856                                  |</pre>"
      ],
      "text/plain": [
       "| 2       | 0.00198145        | 1.17856                                  |"
      ]
     },
     "metadata": {},
     "output_type": "display_data"
    },
    {
     "data": {
      "text/html": [
       "<pre>| 3       | 0.000990725       | 1.21628                                  |</pre>"
      ],
      "text/plain": [
       "| 3       | 0.000990725       | 1.21628                                  |"
      ]
     },
     "metadata": {},
     "output_type": "display_data"
    },
    {
     "data": {
      "text/html": [
       "<pre>| 4       | 0.000495362       | 1.2384                                   |</pre>"
      ],
      "text/plain": [
       "| 4       | 0.000495362       | 1.2384                                   |"
      ]
     },
     "metadata": {},
     "output_type": "display_data"
    },
    {
     "data": {
      "text/html": [
       "<pre>+---------+-------------------+------------------------------------------+</pre>"
      ],
      "text/plain": [
       "+---------+-------------------+------------------------------------------+"
      ]
     },
     "metadata": {},
     "output_type": "display_data"
    },
    {
     "data": {
      "text/html": [
       "<pre>| Final   | 0.0039629         | 1.11765                                  |</pre>"
      ],
      "text/plain": [
       "| Final   | 0.0039629         | 1.11765                                  |"
      ]
     },
     "metadata": {},
     "output_type": "display_data"
    },
    {
     "data": {
      "text/html": [
       "<pre>+---------+-------------------+------------------------------------------+</pre>"
      ],
      "text/plain": [
       "+---------+-------------------+------------------------------------------+"
      ]
     },
     "metadata": {},
     "output_type": "display_data"
    },
    {
     "data": {
      "text/html": [
       "<pre>Starting Optimization.</pre>"
      ],
      "text/plain": [
       "Starting Optimization."
      ]
     },
     "metadata": {},
     "output_type": "display_data"
    },
    {
     "data": {
      "text/html": [
       "<pre>+---------+--------------+-------------------+-----------------------+-------------+</pre>"
      ],
      "text/plain": [
       "+---------+--------------+-------------------+-----------------------+-------------+"
      ]
     },
     "metadata": {},
     "output_type": "display_data"
    },
    {
     "data": {
      "text/html": [
       "<pre>| Iter.   | Elapsed Time | Approx. Objective | Approx. Training RMSE | Step Size   |</pre>"
      ],
      "text/plain": [
       "| Iter.   | Elapsed Time | Approx. Objective | Approx. Training RMSE | Step Size   |"
      ]
     },
     "metadata": {},
     "output_type": "display_data"
    },
    {
     "data": {
      "text/html": [
       "<pre>+---------+--------------+-------------------+-----------------------+-------------+</pre>"
      ],
      "text/plain": [
       "+---------+--------------+-------------------+-----------------------+-------------+"
      ]
     },
     "metadata": {},
     "output_type": "display_data"
    },
    {
     "data": {
      "text/html": [
       "<pre>| Initial | 0us          | 1.27004           | 1.12696               |             |</pre>"
      ],
      "text/plain": [
       "| Initial | 0us          | 1.27004           | 1.12696               |             |"
      ]
     },
     "metadata": {},
     "output_type": "display_data"
    },
    {
     "data": {
      "text/html": [
       "<pre>+---------+--------------+-------------------+-----------------------+-------------+</pre>"
      ],
      "text/plain": [
       "+---------+--------------+-------------------+-----------------------+-------------+"
      ]
     },
     "metadata": {},
     "output_type": "display_data"
    },
    {
     "data": {
      "text/html": [
       "<pre>| 1       | 30.756ms     | DIVERGED          | DIVERGED              | 0.0039629   |</pre>"
      ],
      "text/plain": [
       "| 1       | 30.756ms     | DIVERGED          | DIVERGED              | 0.0039629   |"
      ]
     },
     "metadata": {},
     "output_type": "display_data"
    },
    {
     "data": {
      "text/html": [
       "<pre>| RESET   | 33.762ms     | 1.27009           | 1.12698               |             |</pre>"
      ],
      "text/plain": [
       "| RESET   | 33.762ms     | 1.27009           | 1.12698               |             |"
      ]
     },
     "metadata": {},
     "output_type": "display_data"
    },
    {
     "data": {
      "text/html": [
       "<pre>| 1       | 97.934ms     | DIVERGED          | DIVERGED              | 0.00198145  |</pre>"
      ],
      "text/plain": [
       "| 1       | 97.934ms     | DIVERGED          | DIVERGED              | 0.00198145  |"
      ]
     },
     "metadata": {},
     "output_type": "display_data"
    },
    {
     "data": {
      "text/html": [
       "<pre>| RESET   | 102.947ms    | 1.27004           | 1.12696               |             |</pre>"
      ],
      "text/plain": [
       "| RESET   | 102.947ms    | 1.27004           | 1.12696               |             |"
      ]
     },
     "metadata": {},
     "output_type": "display_data"
    },
    {
     "data": {
      "text/html": [
       "<pre>| 1       | 136.034ms    | 1.19566           | 1.09346               | 0.000990725 |</pre>"
      ],
      "text/plain": [
       "| 1       | 136.034ms    | 1.19566           | 1.09346               | 0.000990725 |"
      ]
     },
     "metadata": {},
     "output_type": "display_data"
    },
    {
     "data": {
      "text/html": [
       "<pre>| 2       | 167.117ms    | 1.12063           | 1.0586                | 0.000176867 |</pre>"
      ],
      "text/plain": [
       "| 2       | 167.117ms    | 1.12063           | 1.0586                | 0.000176867 |"
      ]
     },
     "metadata": {},
     "output_type": "display_data"
    },
    {
     "data": {
      "text/html": [
       "<pre>| 3       | 189.177ms    | 1.10778           | 1.05251               |             |</pre>"
      ],
      "text/plain": [
       "| 3       | 189.177ms    | 1.10778           | 1.05251               |             |"
      ]
     },
     "metadata": {},
     "output_type": "display_data"
    },
    {
     "data": {
      "text/html": [
       "<pre>| 4       | 226.274ms    | 1.10064           | 1.04911               |             |</pre>"
      ],
      "text/plain": [
       "| 4       | 226.274ms    | 1.10064           | 1.04911               |             |"
      ]
     },
     "metadata": {},
     "output_type": "display_data"
    },
    {
     "data": {
      "text/html": [
       "<pre>| 5       | 264.375ms    | 1.09573           | 1.04677               |             |</pre>"
      ],
      "text/plain": [
       "| 5       | 264.375ms    | 1.09573           | 1.04677               |             |"
      ]
     },
     "metadata": {},
     "output_type": "display_data"
    },
    {
     "data": {
      "text/html": [
       "<pre>| 6       | 292.45ms     | 1.09201           | 1.04499               |             |</pre>"
      ],
      "text/plain": [
       "| 6       | 292.45ms     | 1.09201           | 1.04499               |             |"
      ]
     },
     "metadata": {},
     "output_type": "display_data"
    },
    {
     "data": {
      "text/html": [
       "<pre>| 11      | 478.825ms    | 1.08093           | 1.03968               |             |</pre>"
      ],
      "text/plain": [
       "| 11      | 478.825ms    | 1.08093           | 1.03968               |             |"
      ]
     },
     "metadata": {},
     "output_type": "display_data"
    },
    {
     "data": {
      "text/html": [
       "<pre>| 48      | 1.55s        | 1.05878           | 1.02897               |             |</pre>"
      ],
      "text/plain": [
       "| 48      | 1.55s        | 1.05878           | 1.02897               |             |"
      ]
     },
     "metadata": {},
     "output_type": "display_data"
    },
    {
     "data": {
      "text/html": [
       "<pre>+---------+--------------+-------------------+-----------------------+-------------+</pre>"
      ],
      "text/plain": [
       "+---------+--------------+-------------------+-----------------------+-------------+"
      ]
     },
     "metadata": {},
     "output_type": "display_data"
    },
    {
     "data": {
      "text/html": [
       "<pre>Optimization Complete: Maximum number of passes through the data reached.</pre>"
      ],
      "text/plain": [
       "Optimization Complete: Maximum number of passes through the data reached."
      ]
     },
     "metadata": {},
     "output_type": "display_data"
    },
    {
     "data": {
      "text/html": [
       "<pre>Computing final objective value and training RMSE.</pre>"
      ],
      "text/plain": [
       "Computing final objective value and training RMSE."
      ]
     },
     "metadata": {},
     "output_type": "display_data"
    },
    {
     "data": {
      "text/html": [
       "<pre>       Final objective value: 1.05807</pre>"
      ],
      "text/plain": [
       "       Final objective value: 1.05807"
      ]
     },
     "metadata": {},
     "output_type": "display_data"
    },
    {
     "data": {
      "text/html": [
       "<pre>       Final training RMSE: 1.02863</pre>"
      ],
      "text/plain": [
       "       Final training RMSE: 1.02863"
      ]
     },
     "metadata": {},
     "output_type": "display_data"
    }
   ],
   "source": [
    "# Factorization Recommender\n",
    "# reguarlization_range - a list stores the regularization parameters\n",
    "regularization_range=[1e-5,1e-4,1e-3,1e-2,1e-1]\n",
    "# To store the RMSE from the regularization parameters\n",
    "rmse_list=[]\n",
    "for reg_parm in regularization_range:\n",
    "\tf1=graphlab.factorization_recommender.create(sf_train, target='rating',regularization=reg_parm)\n",
    "\trmse=f1.evaluate_rmse(sf_valid,target='rating')\n",
    "\trmse_list.append(rmse[\"rmse_overall\"])"
   ]
  },
  {
   "cell_type": "code",
   "execution_count": 33,
   "metadata": {},
   "outputs": [
    {
     "name": "stdout",
     "output_type": "stream",
     "text": [
      "0.9375875590255983\n",
      "0.001\n"
     ]
    }
   ],
   "source": [
    "Min_RMSE=np.min(rmse_list)\n",
    "print(Min_RMSE)\n",
    "Regularization_best_parameter=regularization_range[np.argmin(rmse_list)]\n",
    "print Regularization_best_parameter"
   ]
  },
  {
   "cell_type": "code",
   "execution_count": 43,
   "metadata": {
    "scrolled": true
   },
   "outputs": [
    {
     "data": {
      "text/html": [
       "<pre>Recsys training: model = factorization_recommender</pre>"
      ],
      "text/plain": [
       "Recsys training: model = factorization_recommender"
      ]
     },
     "metadata": {},
     "output_type": "display_data"
    },
    {
     "data": {
      "text/html": [
       "<pre>Preparing data set.</pre>"
      ],
      "text/plain": [
       "Preparing data set."
      ]
     },
     "metadata": {},
     "output_type": "display_data"
    },
    {
     "data": {
      "text/html": [
       "<pre>    Data has 46446 observations with 568 users and 1586 items.</pre>"
      ],
      "text/plain": [
       "    Data has 46446 observations with 568 users and 1586 items."
      ]
     },
     "metadata": {},
     "output_type": "display_data"
    },
    {
     "data": {
      "text/html": [
       "<pre>    Data prepared in: 0.029078s</pre>"
      ],
      "text/plain": [
       "    Data prepared in: 0.029078s"
      ]
     },
     "metadata": {},
     "output_type": "display_data"
    },
    {
     "data": {
      "text/html": [
       "<pre>Training factorization_recommender for recommendations.</pre>"
      ],
      "text/plain": [
       "Training factorization_recommender for recommendations."
      ]
     },
     "metadata": {},
     "output_type": "display_data"
    },
    {
     "data": {
      "text/html": [
       "<pre>+--------------------------------+--------------------------------------------------+----------+</pre>"
      ],
      "text/plain": [
       "+--------------------------------+--------------------------------------------------+----------+"
      ]
     },
     "metadata": {},
     "output_type": "display_data"
    },
    {
     "data": {
      "text/html": [
       "<pre>| Parameter                      | Description                                      | Value    |</pre>"
      ],
      "text/plain": [
       "| Parameter                      | Description                                      | Value    |"
      ]
     },
     "metadata": {},
     "output_type": "display_data"
    },
    {
     "data": {
      "text/html": [
       "<pre>+--------------------------------+--------------------------------------------------+----------+</pre>"
      ],
      "text/plain": [
       "+--------------------------------+--------------------------------------------------+----------+"
      ]
     },
     "metadata": {},
     "output_type": "display_data"
    },
    {
     "data": {
      "text/html": [
       "<pre>| num_factors                    | Factor Dimension                                 | 8        |</pre>"
      ],
      "text/plain": [
       "| num_factors                    | Factor Dimension                                 | 8        |"
      ]
     },
     "metadata": {},
     "output_type": "display_data"
    },
    {
     "data": {
      "text/html": [
       "<pre>| regularization                 | L2 Regularization on Factors                     | 0.001    |</pre>"
      ],
      "text/plain": [
       "| regularization                 | L2 Regularization on Factors                     | 0.001    |"
      ]
     },
     "metadata": {},
     "output_type": "display_data"
    },
    {
     "data": {
      "text/html": [
       "<pre>| solver                         | Solver used for training                         | sgd      |</pre>"
      ],
      "text/plain": [
       "| solver                         | Solver used for training                         | sgd      |"
      ]
     },
     "metadata": {},
     "output_type": "display_data"
    },
    {
     "data": {
      "text/html": [
       "<pre>| linear_regularization          | L2 Regularization on Linear Coefficients         | 1e-010   |</pre>"
      ],
      "text/plain": [
       "| linear_regularization          | L2 Regularization on Linear Coefficients         | 1e-010   |"
      ]
     },
     "metadata": {},
     "output_type": "display_data"
    },
    {
     "data": {
      "text/html": [
       "<pre>| max_iterations                 | Maximum Number of Iterations                     | 50       |</pre>"
      ],
      "text/plain": [
       "| max_iterations                 | Maximum Number of Iterations                     | 50       |"
      ]
     },
     "metadata": {},
     "output_type": "display_data"
    },
    {
     "data": {
      "text/html": [
       "<pre>+--------------------------------+--------------------------------------------------+----------+</pre>"
      ],
      "text/plain": [
       "+--------------------------------+--------------------------------------------------+----------+"
      ]
     },
     "metadata": {},
     "output_type": "display_data"
    },
    {
     "data": {
      "text/html": [
       "<pre>  Optimizing model using SGD; tuning step size.</pre>"
      ],
      "text/plain": [
       "  Optimizing model using SGD; tuning step size."
      ]
     },
     "metadata": {},
     "output_type": "display_data"
    },
    {
     "data": {
      "text/html": [
       "<pre>  Using 10000 / 46446 points for tuning the step size.</pre>"
      ],
      "text/plain": [
       "  Using 10000 / 46446 points for tuning the step size."
      ]
     },
     "metadata": {},
     "output_type": "display_data"
    },
    {
     "data": {
      "text/html": [
       "<pre>+---------+-------------------+------------------------------------------+</pre>"
      ],
      "text/plain": [
       "+---------+-------------------+------------------------------------------+"
      ]
     },
     "metadata": {},
     "output_type": "display_data"
    },
    {
     "data": {
      "text/html": [
       "<pre>| Attempt | Initial Step Size | Estimated Objective Value                |</pre>"
      ],
      "text/plain": [
       "| Attempt | Initial Step Size | Estimated Objective Value                |"
      ]
     },
     "metadata": {},
     "output_type": "display_data"
    },
    {
     "data": {
      "text/html": [
       "<pre>+---------+-------------------+------------------------------------------+</pre>"
      ],
      "text/plain": [
       "+---------+-------------------+------------------------------------------+"
      ]
     },
     "metadata": {},
     "output_type": "display_data"
    },
    {
     "data": {
      "text/html": [
       "<pre>| 0       | 1.58516           | Not Viable                               |</pre>"
      ],
      "text/plain": [
       "| 0       | 1.58516           | Not Viable                               |"
      ]
     },
     "metadata": {},
     "output_type": "display_data"
    },
    {
     "data": {
      "text/html": [
       "<pre>| 1       | 0.39629           | Not Viable                               |</pre>"
      ],
      "text/plain": [
       "| 1       | 0.39629           | Not Viable                               |"
      ]
     },
     "metadata": {},
     "output_type": "display_data"
    },
    {
     "data": {
      "text/html": [
       "<pre>| 2       | 0.0990725         | 0.738394                                 |</pre>"
      ],
      "text/plain": [
       "| 2       | 0.0990725         | 0.738394                                 |"
      ]
     },
     "metadata": {},
     "output_type": "display_data"
    },
    {
     "data": {
      "text/html": [
       "<pre>| 3       | 0.0495362         | 0.763125                                 |</pre>"
      ],
      "text/plain": [
       "| 3       | 0.0495362         | 0.763125                                 |"
      ]
     },
     "metadata": {},
     "output_type": "display_data"
    },
    {
     "data": {
      "text/html": [
       "<pre>| 4       | 0.0247681         | 0.797821                                 |</pre>"
      ],
      "text/plain": [
       "| 4       | 0.0247681         | 0.797821                                 |"
      ]
     },
     "metadata": {},
     "output_type": "display_data"
    },
    {
     "data": {
      "text/html": [
       "<pre>| 5       | 0.0123841         | 0.84655                                  |</pre>"
      ],
      "text/plain": [
       "| 5       | 0.0123841         | 0.84655                                  |"
      ]
     },
     "metadata": {},
     "output_type": "display_data"
    },
    {
     "data": {
      "text/html": [
       "<pre>+---------+-------------------+------------------------------------------+</pre>"
      ],
      "text/plain": [
       "+---------+-------------------+------------------------------------------+"
      ]
     },
     "metadata": {},
     "output_type": "display_data"
    },
    {
     "data": {
      "text/html": [
       "<pre>| Final   | 0.0990725         | 0.738394                                 |</pre>"
      ],
      "text/plain": [
       "| Final   | 0.0990725         | 0.738394                                 |"
      ]
     },
     "metadata": {},
     "output_type": "display_data"
    },
    {
     "data": {
      "text/html": [
       "<pre>+---------+-------------------+------------------------------------------+</pre>"
      ],
      "text/plain": [
       "+---------+-------------------+------------------------------------------+"
      ]
     },
     "metadata": {},
     "output_type": "display_data"
    },
    {
     "data": {
      "text/html": [
       "<pre>Starting Optimization.</pre>"
      ],
      "text/plain": [
       "Starting Optimization."
      ]
     },
     "metadata": {},
     "output_type": "display_data"
    },
    {
     "data": {
      "text/html": [
       "<pre>+---------+--------------+-------------------+-----------------------+-------------+</pre>"
      ],
      "text/plain": [
       "+---------+--------------+-------------------+-----------------------+-------------+"
      ]
     },
     "metadata": {},
     "output_type": "display_data"
    },
    {
     "data": {
      "text/html": [
       "<pre>| Iter.   | Elapsed Time | Approx. Objective | Approx. Training RMSE | Step Size   |</pre>"
      ],
      "text/plain": [
       "| Iter.   | Elapsed Time | Approx. Objective | Approx. Training RMSE | Step Size   |"
      ]
     },
     "metadata": {},
     "output_type": "display_data"
    },
    {
     "data": {
      "text/html": [
       "<pre>+---------+--------------+-------------------+-----------------------+-------------+</pre>"
      ],
      "text/plain": [
       "+---------+--------------+-------------------+-----------------------+-------------+"
      ]
     },
     "metadata": {},
     "output_type": "display_data"
    },
    {
     "data": {
      "text/html": [
       "<pre>| Initial | 0us          | 1.27003           | 1.12696               |             |</pre>"
      ],
      "text/plain": [
       "| Initial | 0us          | 1.27003           | 1.12696               |             |"
      ]
     },
     "metadata": {},
     "output_type": "display_data"
    },
    {
     "data": {
      "text/html": [
       "<pre>+---------+--------------+-------------------+-----------------------+-------------+</pre>"
      ],
      "text/plain": [
       "+---------+--------------+-------------------+-----------------------+-------------+"
      ]
     },
     "metadata": {},
     "output_type": "display_data"
    },
    {
     "data": {
      "text/html": [
       "<pre>| 1       | 63.854ms     | DIVERGED          | DIVERGED              | 0.0990725   |</pre>"
      ],
      "text/plain": [
       "| 1       | 63.854ms     | DIVERGED          | DIVERGED              | 0.0990725   |"
      ]
     },
     "metadata": {},
     "output_type": "display_data"
    },
    {
     "data": {
      "text/html": [
       "<pre>| RESET   | 67.864ms     | 1.27006           | 1.12697               |             |</pre>"
      ],
      "text/plain": [
       "| RESET   | 67.864ms     | 1.27006           | 1.12697               |             |"
      ]
     },
     "metadata": {},
     "output_type": "display_data"
    },
    {
     "data": {
      "text/html": [
       "<pre>| 1       | 104.963ms    | DIVERGED          | DIVERGED              | 0.0495362   |</pre>"
      ],
      "text/plain": [
       "| 1       | 104.963ms    | DIVERGED          | DIVERGED              | 0.0495362   |"
      ]
     },
     "metadata": {},
     "output_type": "display_data"
    },
    {
     "data": {
      "text/html": [
       "<pre>| RESET   | 108.973ms    | 1.27007           | 1.12697               |             |</pre>"
      ],
      "text/plain": [
       "| RESET   | 108.973ms    | 1.27007           | 1.12697               |             |"
      ]
     },
     "metadata": {},
     "output_type": "display_data"
    },
    {
     "data": {
      "text/html": [
       "<pre>| 1       | 143.064ms    | 0.97149           | 0.985641              | 0.0247681   |</pre>"
      ],
      "text/plain": [
       "| 1       | 143.064ms    | 0.97149           | 0.985641              | 0.0247681   |"
      ]
     },
     "metadata": {},
     "output_type": "display_data"
    },
    {
     "data": {
      "text/html": [
       "<pre>| 2       | 164.12ms     | 0.869932          | 0.932701              | 0.011518    |</pre>"
      ],
      "text/plain": [
       "| 2       | 164.12ms     | 0.869932          | 0.932701              | 0.011518    |"
      ]
     },
     "metadata": {},
     "output_type": "display_data"
    },
    {
     "data": {
      "text/html": [
       "<pre>| 3       | 197.208ms    | 0.848533          | 0.921158              | 0.00750376  |</pre>"
      ],
      "text/plain": [
       "| 3       | 197.208ms    | 0.848533          | 0.921158              | 0.00750376  |"
      ]
     },
     "metadata": {},
     "output_type": "display_data"
    },
    {
     "data": {
      "text/html": [
       "<pre>| 4       | 240.322ms    | 0.838636          | 0.915771              | 0.00556444  |</pre>"
      ],
      "text/plain": [
       "| 4       | 240.322ms    | 0.838636          | 0.915771              | 0.00556444  |"
      ]
     },
     "metadata": {},
     "output_type": "display_data"
    },
    {
     "data": {
      "text/html": [
       "<pre>| 5       | 257.368ms    | 0.832819          | 0.912589              | 0.00442168  |</pre>"
      ],
      "text/plain": [
       "| 5       | 257.368ms    | 0.832819          | 0.912589              | 0.00442168  |"
      ]
     },
     "metadata": {},
     "output_type": "display_data"
    },
    {
     "data": {
      "text/html": [
       "<pre>| 6       | 290.456ms    | 0.828993          | 0.91049               | 0.00366832  |</pre>"
      ],
      "text/plain": [
       "| 6       | 290.456ms    | 0.828993          | 0.91049               | 0.00366832  |"
      ]
     },
     "metadata": {},
     "output_type": "display_data"
    },
    {
     "data": {
      "text/html": [
       "<pre>| 11      | 438.341ms    | 0.820536          | 0.905834              | 0.00198085  |</pre>"
      ],
      "text/plain": [
       "| 11      | 438.341ms    | 0.820536          | 0.905834              | 0.00198085  |"
      ]
     },
     "metadata": {},
     "output_type": "display_data"
    },
    {
     "data": {
      "text/html": [
       "<pre>| 48      | 1.55s        | 0.811099          | 0.90061               | 0.000449774 |</pre>"
      ],
      "text/plain": [
       "| 48      | 1.55s        | 0.811099          | 0.90061               | 0.000449774 |"
      ]
     },
     "metadata": {},
     "output_type": "display_data"
    },
    {
     "data": {
      "text/html": [
       "<pre>+---------+--------------+-------------------+-----------------------+-------------+</pre>"
      ],
      "text/plain": [
       "+---------+--------------+-------------------+-----------------------+-------------+"
      ]
     },
     "metadata": {},
     "output_type": "display_data"
    },
    {
     "data": {
      "text/html": [
       "<pre>Optimization Complete: Maximum number of passes through the data reached.</pre>"
      ],
      "text/plain": [
       "Optimization Complete: Maximum number of passes through the data reached."
      ]
     },
     "metadata": {},
     "output_type": "display_data"
    },
    {
     "data": {
      "text/html": [
       "<pre>Computing final objective value and training RMSE.</pre>"
      ],
      "text/plain": [
       "Computing final objective value and training RMSE."
      ]
     },
     "metadata": {},
     "output_type": "display_data"
    },
    {
     "data": {
      "text/html": [
       "<pre>       Final objective value: 0.809557</pre>"
      ],
      "text/plain": [
       "       Final objective value: 0.809557"
      ]
     },
     "metadata": {},
     "output_type": "display_data"
    },
    {
     "data": {
      "text/html": [
       "<pre>       Final training RMSE: 0.899754</pre>"
      ],
      "text/plain": [
       "       Final training RMSE: 0.899754"
      ]
     },
     "metadata": {},
     "output_type": "display_data"
    },
    {
     "name": "stdout",
     "output_type": "stream",
     "text": [
      "Best RMSE for test set {'rmse_by_user': Columns:\n",
      "\tuser_id\tint\n",
      "\tcount\tint\n",
      "\trmse\tfloat\n",
      "\n",
      "Rows: 568\n",
      "\n",
      "Data:\n",
      "+---------+-------+----------------+\n",
      "| user_id | count |      rmse      |\n",
      "+---------+-------+----------------+\n",
      "|   232   |   27  | 1.04973119872  |\n",
      "|   363   |   98  | 1.20317578073  |\n",
      "|   738   |   45  | 0.729489234799 |\n",
      "|   187   |   19  | 0.791531406144 |\n",
      "|   764   |   38  | 0.685159764655 |\n",
      "|   786   |   38  | 0.638285708042 |\n",
      "|   863   |   30  | 1.16057008489  |\n",
      "|   454   |   64  |  1.0249737835  |\n",
      "|   499   |   34  | 0.923785319411 |\n",
      "|   354   |   75  | 0.86131853016  |\n",
      "+---------+-------+----------------+\n",
      "[568 rows x 3 columns]\n",
      "Note: Only the head of the SFrame is printed.\n",
      "You can use print_rows(num_rows=m, num_columns=n) to print more rows and columns., 'rmse_by_item': Columns:\n",
      "\titem_id\tint\n",
      "\tcount\tint\n",
      "\trmse\tfloat\n",
      "\n",
      "Rows: 1472\n",
      "\n",
      "Data:\n",
      "+---------+-------+----------------+\n",
      "| item_id | count |      rmse      |\n",
      "+---------+-------+----------------+\n",
      "|   232   |   24  | 0.66528797267  |\n",
      "|   363   |   13  | 0.881567795687 |\n",
      "|   431   |   48  | 0.954650061111 |\n",
      "|   738   |   12  | 0.769653103741 |\n",
      "|   732   |   51  | 0.822386879181 |\n",
      "|   187   |   70  | 0.905247991355 |\n",
      "|   1368  |   2   | 1.53741930303  |\n",
      "|   764   |   6   | 1.01341432295  |\n",
      "|   926   |   29  | 0.879103234513 |\n",
      "|   1180  |   2   | 0.614708381026 |\n",
      "+---------+-------+----------------+\n",
      "[1472 rows x 3 columns]\n",
      "Note: Only the head of the SFrame is printed.\n",
      "You can use print_rows(num_rows=m, num_columns=n) to print more rows and columns., 'rmse_overall': 0.9380942130744965}\n"
     ]
    }
   ],
   "source": [
    "# The best parameters and the scoring on the test set\n",
    "factorization_recommender=graphlab.factorization_recommender.create(sf_train, target='rating',\n",
    "                                                                    regularization=Regularization_best_parameter)\n",
    "best_rmse=factorization_recommender.evaluate_rmse(sf_test,target='rating')\n",
    "print \"Best RMSE for test set\", best_rmse"
   ]
  },
  {
   "cell_type": "code",
   "execution_count": 44,
   "metadata": {},
   "outputs": [
    {
     "name": "stdout",
     "output_type": "stream",
     "text": [
      "Best RMSE for test set {'rmse_by_user': Columns:\n",
      "\tuser_id\tint\n",
      "\tcount\tint\n",
      "\trmse\tfloat\n",
      "\n",
      "Rows: 568\n",
      "\n",
      "Data:\n",
      "+---------+-------+----------------+\n",
      "| user_id | count |      rmse      |\n",
      "+---------+-------+----------------+\n",
      "|   232   |   27  | 1.04973119872  |\n",
      "|   363   |   98  | 1.20317578073  |\n",
      "|   738   |   45  | 0.729489234799 |\n",
      "|   187   |   19  | 0.791531406144 |\n",
      "|   764   |   38  | 0.685159764655 |\n",
      "|   786   |   38  | 0.638285708042 |\n",
      "|   863   |   30  | 1.16057008489  |\n",
      "|   454   |   64  |  1.0249737835  |\n",
      "|   499   |   34  | 0.923785319411 |\n",
      "|   354   |   75  | 0.86131853016  |\n",
      "+---------+-------+----------------+\n",
      "[568 rows x 3 columns]\n",
      "Note: Only the head of the SFrame is printed.\n",
      "You can use print_rows(num_rows=m, num_columns=n) to print more rows and columns., 'rmse_by_item': Columns:\n",
      "\titem_id\tint\n",
      "\tcount\tint\n",
      "\trmse\tfloat\n",
      "\n",
      "Rows: 1472\n",
      "\n",
      "Data:\n",
      "+---------+-------+----------------+\n",
      "| item_id | count |      rmse      |\n",
      "+---------+-------+----------------+\n",
      "|   232   |   24  | 0.66528797267  |\n",
      "|   363   |   13  | 0.881567795687 |\n",
      "|   431   |   48  | 0.954650061111 |\n",
      "|   738   |   12  | 0.769653103741 |\n",
      "|   732   |   51  | 0.822386879181 |\n",
      "|   187   |   70  | 0.905247991355 |\n",
      "|   1368  |   2   | 1.53741930303  |\n",
      "|   764   |   6   | 1.01341432295  |\n",
      "|   926   |   29  | 0.879103234513 |\n",
      "|   1180  |   2   | 0.614708381026 |\n",
      "+---------+-------+----------------+\n",
      "[1472 rows x 3 columns]\n",
      "Note: Only the head of the SFrame is printed.\n",
      "You can use print_rows(num_rows=m, num_columns=n) to print more rows and columns., 'rmse_overall': 0.9380942130744965}\n"
     ]
    }
   ],
   "source": [
    "print \"Best RMSE for test set\", best_rmse"
   ]
  },
  {
   "cell_type": "code",
   "execution_count": 35,
   "metadata": {},
   "outputs": [
    {
     "data": {
      "text/html": [
       "<pre>Recsys training: model = item_similarity</pre>"
      ],
      "text/plain": [
       "Recsys training: model = item_similarity"
      ]
     },
     "metadata": {},
     "output_type": "display_data"
    },
    {
     "data": {
      "text/html": [
       "<pre>Warning: Column 'rating' ignored.</pre>"
      ],
      "text/plain": [
       "Warning: Column 'rating' ignored."
      ]
     },
     "metadata": {},
     "output_type": "display_data"
    },
    {
     "data": {
      "text/html": [
       "<pre>    To use this column as the target, set target = \"rating\" and use a method that allows the use of a target.</pre>"
      ],
      "text/plain": [
       "    To use this column as the target, set target = \"rating\" and use a method that allows the use of a target."
      ]
     },
     "metadata": {},
     "output_type": "display_data"
    },
    {
     "data": {
      "text/html": [
       "<pre>Preparing data set.</pre>"
      ],
      "text/plain": [
       "Preparing data set."
      ]
     },
     "metadata": {},
     "output_type": "display_data"
    },
    {
     "data": {
      "text/html": [
       "<pre>    Data has 46446 observations with 568 users and 1586 items.</pre>"
      ],
      "text/plain": [
       "    Data has 46446 observations with 568 users and 1586 items."
      ]
     },
     "metadata": {},
     "output_type": "display_data"
    },
    {
     "data": {
      "text/html": [
       "<pre>    Data prepared in: 0.028076s</pre>"
      ],
      "text/plain": [
       "    Data prepared in: 0.028076s"
      ]
     },
     "metadata": {},
     "output_type": "display_data"
    },
    {
     "data": {
      "text/html": [
       "<pre>Training model from provided data.</pre>"
      ],
      "text/plain": [
       "Training model from provided data."
      ]
     },
     "metadata": {},
     "output_type": "display_data"
    },
    {
     "data": {
      "text/html": [
       "<pre>Gathering per-item and per-user statistics.</pre>"
      ],
      "text/plain": [
       "Gathering per-item and per-user statistics."
      ]
     },
     "metadata": {},
     "output_type": "display_data"
    },
    {
     "data": {
      "text/html": [
       "<pre>+--------------------------------+------------+</pre>"
      ],
      "text/plain": [
       "+--------------------------------+------------+"
      ]
     },
     "metadata": {},
     "output_type": "display_data"
    },
    {
     "data": {
      "text/html": [
       "<pre>| Elapsed Time (Item Statistics) | % Complete |</pre>"
      ],
      "text/plain": [
       "| Elapsed Time (Item Statistics) | % Complete |"
      ]
     },
     "metadata": {},
     "output_type": "display_data"
    },
    {
     "data": {
      "text/html": [
       "<pre>+--------------------------------+------------+</pre>"
      ],
      "text/plain": [
       "+--------------------------------+------------+"
      ]
     },
     "metadata": {},
     "output_type": "display_data"
    },
    {
     "data": {
      "text/html": [
       "<pre>| 1.001ms                        | 100        |</pre>"
      ],
      "text/plain": [
       "| 1.001ms                        | 100        |"
      ]
     },
     "metadata": {},
     "output_type": "display_data"
    },
    {
     "data": {
      "text/html": [
       "<pre>+--------------------------------+------------+</pre>"
      ],
      "text/plain": [
       "+--------------------------------+------------+"
      ]
     },
     "metadata": {},
     "output_type": "display_data"
    },
    {
     "data": {
      "text/html": [
       "<pre>Setting up lookup tables.</pre>"
      ],
      "text/plain": [
       "Setting up lookup tables."
      ]
     },
     "metadata": {},
     "output_type": "display_data"
    },
    {
     "data": {
      "text/html": [
       "<pre>Processing data in one pass using dense lookup tables.</pre>"
      ],
      "text/plain": [
       "Processing data in one pass using dense lookup tables."
      ]
     },
     "metadata": {},
     "output_type": "display_data"
    },
    {
     "data": {
      "text/html": [
       "<pre>+-------------------------------------+------------------+-----------------+</pre>"
      ],
      "text/plain": [
       "+-------------------------------------+------------------+-----------------+"
      ]
     },
     "metadata": {},
     "output_type": "display_data"
    },
    {
     "data": {
      "text/html": [
       "<pre>| Elapsed Time (Constructing Lookups) | Total % Complete | Items Processed |</pre>"
      ],
      "text/plain": [
       "| Elapsed Time (Constructing Lookups) | Total % Complete | Items Processed |"
      ]
     },
     "metadata": {},
     "output_type": "display_data"
    },
    {
     "data": {
      "text/html": [
       "<pre>+-------------------------------------+------------------+-----------------+</pre>"
      ],
      "text/plain": [
       "+-------------------------------------+------------------+-----------------+"
      ]
     },
     "metadata": {},
     "output_type": "display_data"
    },
    {
     "data": {
      "text/html": [
       "<pre>| 8.019ms                             | 0                | 1               |</pre>"
      ],
      "text/plain": [
       "| 8.019ms                             | 0                | 1               |"
      ]
     },
     "metadata": {},
     "output_type": "display_data"
    },
    {
     "data": {
      "text/html": [
       "<pre>| 37.097ms                            | 100              | 1586            |</pre>"
      ],
      "text/plain": [
       "| 37.097ms                            | 100              | 1586            |"
      ]
     },
     "metadata": {},
     "output_type": "display_data"
    },
    {
     "data": {
      "text/html": [
       "<pre>+-------------------------------------+------------------+-----------------+</pre>"
      ],
      "text/plain": [
       "+-------------------------------------+------------------+-----------------+"
      ]
     },
     "metadata": {},
     "output_type": "display_data"
    },
    {
     "data": {
      "text/html": [
       "<pre>Finalizing lookup tables.</pre>"
      ],
      "text/plain": [
       "Finalizing lookup tables."
      ]
     },
     "metadata": {},
     "output_type": "display_data"
    },
    {
     "data": {
      "text/html": [
       "<pre>Generating candidate set for working with new users.</pre>"
      ],
      "text/plain": [
       "Generating candidate set for working with new users."
      ]
     },
     "metadata": {},
     "output_type": "display_data"
    },
    {
     "data": {
      "text/html": [
       "<pre>Finished training in 0.043113s</pre>"
      ],
      "text/plain": [
       "Finished training in 0.043113s"
      ]
     },
     "metadata": {},
     "output_type": "display_data"
    },
    {
     "name": "stdout",
     "output_type": "stream",
     "text": [
      "3.66705876299\n"
     ]
    }
   ],
   "source": [
    "# Item-item Similarity Filtering\n",
    "\n",
    "item_item_sim_recommender = graphlab.item_similarity_recommender.create(sf_train)\n",
    "eval_item_sim_filter=item_item_sim_recommender.evaluate_rmse(sf_test,target='rating')\n",
    "print \"RMSE for item-item similarity filtering\",eval_item_sim_filter[\"rmse_overall\"]"
   ]
  },
  {
   "cell_type": "code",
   "execution_count": 45,
   "metadata": {},
   "outputs": [
    {
     "name": "stdout",
     "output_type": "stream",
     "text": [
      "+---------+---------+-------+------+\n",
      "| user_id | item_id | score | rank |\n",
      "+---------+---------+-------+------+\n",
      "|   848   |   745   |  5.0  |  1   |\n",
      "|   848   |   1144  |  5.0  |  2   |\n",
      "|   848   |   1367  |  5.0  |  3   |\n",
      "|   848   |   1656  |  5.0  |  4   |\n",
      "|   848   |   1450  |  5.0  |  5   |\n",
      "|   234   |   745   |  5.0  |  1   |\n",
      "|   234   |   1144  |  5.0  |  2   |\n",
      "|   234   |   1367  |  5.0  |  3   |\n",
      "|   234   |   1656  |  5.0  |  4   |\n",
      "|   234   |   1450  |  5.0  |  5   |\n",
      "+---------+---------+-------+------+\n",
      "[2840 rows x 4 columns]\n",
      "Note: Only the head of the SFrame is printed.\n",
      "You can use print_rows(num_rows=m, num_columns=n) to print more rows and columns.\n",
      "+---------+---------+---------------+------+\n",
      "| user_id | item_id |     score     | rank |\n",
      "+---------+---------+---------------+------+\n",
      "|   848   |   169   | 4.90945954864 |  1   |\n",
      "|   848   |   963   | 4.87325449531 |  2   |\n",
      "|   848   |   408   | 4.86613269393 |  3   |\n",
      "|   848   |   483   | 4.86032922809 |  4   |\n",
      "|   848   |    12   | 4.78301234786 |  5   |\n",
      "|   234   |   169   | 4.02963207905 |  1   |\n",
      "|   234   |   408   | 3.98630522435 |  2   |\n",
      "|   234   |   483   |  3.9805017585 |  3   |\n",
      "|   234   |   603   | 3.90213631336 |  4   |\n",
      "|   234   |   320   | 3.89644073193 |  5   |\n",
      "+---------+---------+---------------+------+\n",
      "[2840 rows x 4 columns]\n",
      "Note: Only the head of the SFrame is printed.\n",
      "You can use print_rows(num_rows=m, num_columns=n) to print more rows and columns.\n",
      "+---------+---------+-----------------+------+\n",
      "| user_id | item_id |      score      | rank |\n",
      "+---------+---------+-----------------+------+\n",
      "|   848   |    69   | 0.0929577312892 |  1   |\n",
      "|   848   |   568   | 0.0916805093801 |  2   |\n",
      "|   848   |    82   | 0.0908976966822 |  3   |\n",
      "|   848   |   168   | 0.0902687741231 |  4   |\n",
      "|   848   |   196   | 0.0901206784611 |  5   |\n",
      "|   234   |   172   | 0.0707704485679 |  1   |\n",
      "|   234   |    89   | 0.0666519182069 |  2   |\n",
      "|   234   |   132   | 0.0571475347694 |  3   |\n",
      "|   234   |   168   |  0.056930868723 |  4   |\n",
      "|   234   |   568   | 0.0566464239237 |  5   |\n",
      "+---------+---------+-----------------+------+\n",
      "[2840 rows x 4 columns]\n",
      "Note: Only the head of the SFrame is printed.\n",
      "You can use print_rows(num_rows=m, num_columns=n) to print more rows and columns.\n"
     ]
    }
   ],
   "source": [
    "# Choose the number of recommendations to be 5\n",
    "num_recommend=5\n",
    "print(popularity_recommender.recommend(k=num_recommend))\n",
    "print(factorization_recommender.recommend(k=num_recommend))\n",
    "print(item_item_sim_recommender.recommend(k=num_recommend))"
   ]
  },
  {
   "cell_type": "code",
   "execution_count": 38,
   "metadata": {},
   "outputs": [
    {
     "name": "stdout",
     "output_type": "stream",
     "text": [
      "PROGRESS: Evaluate model Popularity Recommender\n",
      "\n",
      "Precision and recall summary statistics by cutoff\n",
      "+--------+-------------------+-------------------+\n",
      "| cutoff |   mean_precision  |    mean_recall    |\n",
      "+--------+-------------------+-------------------+\n",
      "|   1    |        0.0        |        0.0        |\n",
      "|   2    |        0.0        |        0.0        |\n",
      "|   3    |        0.0        |        0.0        |\n",
      "|   4    |  0.00044014084507 | 2.44522691706e-05 |\n",
      "|   5    | 0.000704225352113 | 0.000100998503096 |\n",
      "|   6    | 0.000880281690141 | 0.000149903041437 |\n",
      "|   7    |  0.00125754527163 | 0.000222643405188 |\n",
      "|   8    |  0.00154049295775 | 0.000286579654262 |\n",
      "|   9    |  0.00176056338028 | 0.000375763915552 |\n",
      "|   10   |  0.00176056338028 | 0.000386977695044 |\n",
      "+--------+-------------------+-------------------+\n",
      "[10 rows x 3 columns]\n",
      "\n",
      "('\\nOverall RMSE: ', 1.0208875373360757)\n",
      "\n",
      "Per User RMSE (best)\n",
      "+---------+-------+----------------+\n",
      "| user_id | count |      rmse      |\n",
      "+---------+-------+----------------+\n",
      "|    2    |   17  | 0.484810151459 |\n",
      "+---------+-------+----------------+\n",
      "[1 rows x 3 columns]\n",
      "\n",
      "\n",
      "Per User RMSE (worst)\n",
      "+---------+-------+---------------+\n",
      "| user_id | count |      rmse     |\n",
      "+---------+-------+---------------+\n",
      "|   507   |   15  | 2.02064752793 |\n",
      "+---------+-------+---------------+\n",
      "[1 rows x 3 columns]\n",
      "\n",
      "\n",
      "Per Item RMSE (best)\n",
      "+---------+-------+------+\n",
      "| item_id | count | rmse |\n",
      "+---------+-------+------+\n",
      "|   104   |   2   | 0.0  |\n",
      "+---------+-------+------+\n",
      "[1 rows x 3 columns]\n",
      "\n",
      "\n",
      "Per Item RMSE (worst)\n",
      "+---------+-------+------+\n",
      "| item_id | count | rmse |\n",
      "+---------+-------+------+\n",
      "|   1612  |   1   | 4.0  |\n",
      "+---------+-------+------+\n",
      "[1 rows x 3 columns]\n",
      "\n",
      "PROGRESS: Evaluate model Factorization Recommender\n",
      "\n",
      "Precision and recall summary statistics by cutoff\n",
      "+--------+-----------------+------------------+\n",
      "| cutoff |  mean_precision |   mean_recall    |\n",
      "+--------+-----------------+------------------+\n",
      "|   1    | 0.0739436619718 | 0.00163384984317 |\n",
      "|   2    | 0.0994718309859 | 0.00452457375296 |\n",
      "|   3    | 0.0821596244131 | 0.00541325249749 |\n",
      "|   4    | 0.0911091549296 | 0.00812637976597 |\n",
      "|   5    | 0.0975352112676 | 0.0105531019785  |\n",
      "|   6    |  0.102112676056 | 0.0136527909768  |\n",
      "|   7    |  0.101609657948 | 0.0155797908225  |\n",
      "|   8    |  0.103433098592 | 0.0178440211519  |\n",
      "|   9    |  0.108568075117 | 0.0208782949571  |\n",
      "|   10   |      0.1125     | 0.0241293773403  |\n",
      "+--------+-----------------+------------------+\n",
      "[10 rows x 3 columns]\n",
      "\n",
      "('\\nOverall RMSE: ', 0.9380669950069968)\n",
      "\n",
      "Per User RMSE (best)\n",
      "+---------+-------+----------------+\n",
      "| user_id | count |      rmse      |\n",
      "+---------+-------+----------------+\n",
      "|    2    |   17  | 0.470005552531 |\n",
      "+---------+-------+----------------+\n",
      "[1 rows x 3 columns]\n",
      "\n",
      "\n",
      "Per User RMSE (worst)\n",
      "+---------+-------+---------------+\n",
      "| user_id | count |      rmse     |\n",
      "+---------+-------+---------------+\n",
      "|   451   |   24  | 1.62509820196 |\n",
      "+---------+-------+---------------+\n",
      "[1 rows x 3 columns]\n",
      "\n",
      "\n",
      "Per Item RMSE (best)\n"
     ]
    },
    {
     "name": "stderr",
     "output_type": "stream",
     "text": [
      "WARNING:root:Model trained without a target. Skipping RMSE computation.\n"
     ]
    },
    {
     "name": "stdout",
     "output_type": "stream",
     "text": [
      "+---------+-------+-----------------+\n",
      "| item_id | count |       rmse      |\n",
      "+---------+-------+-----------------+\n",
      "|   438   |   1   | 0.0279081042424 |\n",
      "+---------+-------+-----------------+\n",
      "[1 rows x 3 columns]\n",
      "\n",
      "\n",
      "Per Item RMSE (worst)\n",
      "+---------+-------+---------------+\n",
      "| item_id | count |      rmse     |\n",
      "+---------+-------+---------------+\n",
      "|   1491  |   1   | 2.89830582859 |\n",
      "+---------+-------+---------------+\n",
      "[1 rows x 3 columns]\n",
      "\n",
      "PROGRESS: Evaluate model Item-Item Similarity\n",
      "\n",
      "Precision and recall summary statistics by cutoff\n",
      "+--------+----------------+------------------+\n",
      "| cutoff | mean_precision |   mean_recall    |\n",
      "+--------+----------------+------------------+\n",
      "|   1    | 0.360915492958 | 0.00912052697274 |\n",
      "|   2    | 0.361795774648 | 0.0184452903423  |\n",
      "|   3    | 0.365610328638 | 0.0279341073161  |\n",
      "|   4    | 0.362235915493 | 0.0367699846121  |\n",
      "|   5    | 0.351408450704 | 0.0444878684138  |\n",
      "|   6    | 0.347711267606 | 0.0526149149531  |\n",
      "|   7    | 0.344064386318 | 0.0611156815039  |\n",
      "|   8    | 0.343089788732 | 0.0700136599884  |\n",
      "|   9    | 0.337636932707 | 0.0771043910778  |\n",
      "|   10   | 0.33485915493  | 0.0850516244912  |\n",
      "+--------+----------------+------------------+\n",
      "[10 rows x 3 columns]\n",
      "\n"
     ]
    },
    {
     "data": {
      "text/plain": [
       "[{'precision_recall_by_user': Columns:\n",
       "  \tuser_id\tint\n",
       "  \tcutoff\tint\n",
       "  \tprecision\tfloat\n",
       "  \trecall\tfloat\n",
       "  \tcount\tint\n",
       "  \n",
       "  Rows: 10224\n",
       "  \n",
       "  Data:\n",
       "  +---------+--------+-----------+--------+-------+\n",
       "  | user_id | cutoff | precision | recall | count |\n",
       "  +---------+--------+-----------+--------+-------+\n",
       "  |    1    |   1    |    0.0    |  0.0   |  100  |\n",
       "  |    1    |   2    |    0.0    |  0.0   |  100  |\n",
       "  |    1    |   3    |    0.0    |  0.0   |  100  |\n",
       "  |    1    |   4    |    0.0    |  0.0   |  100  |\n",
       "  |    1    |   5    |    0.0    |  0.0   |  100  |\n",
       "  |    1    |   6    |    0.0    |  0.0   |  100  |\n",
       "  |    1    |   7    |    0.0    |  0.0   |  100  |\n",
       "  |    1    |   8    |    0.0    |  0.0   |  100  |\n",
       "  |    1    |   9    |    0.0    |  0.0   |  100  |\n",
       "  |    1    |   10   |    0.0    |  0.0   |  100  |\n",
       "  +---------+--------+-----------+--------+-------+\n",
       "  [10224 rows x 5 columns]\n",
       "  Note: Only the head of the SFrame is printed.\n",
       "  You can use print_rows(num_rows=m, num_columns=n) to print more rows and columns.,\n",
       "  'precision_recall_overall': Columns:\n",
       "  \tcutoff\tint\n",
       "  \tprecision\tfloat\n",
       "  \trecall\tfloat\n",
       "  \n",
       "  Rows: 18\n",
       "  \n",
       "  Data:\n",
       "  +--------+-------------------+-------------------+\n",
       "  | cutoff |     precision     |       recall      |\n",
       "  +--------+-------------------+-------------------+\n",
       "  |   1    |        0.0        |        0.0        |\n",
       "  |   2    |        0.0        |        0.0        |\n",
       "  |   3    |        0.0        |        0.0        |\n",
       "  |   4    |  0.00044014084507 | 2.44522691706e-05 |\n",
       "  |   5    | 0.000704225352113 | 0.000100998503096 |\n",
       "  |   6    | 0.000880281690141 | 0.000149903041437 |\n",
       "  |   7    |  0.00125754527163 | 0.000222643405188 |\n",
       "  |   8    |  0.00154049295775 | 0.000286579654262 |\n",
       "  |   9    |  0.00176056338028 | 0.000375763915552 |\n",
       "  |   10   |  0.00176056338028 | 0.000386977695044 |\n",
       "  +--------+-------------------+-------------------+\n",
       "  [18 rows x 3 columns]\n",
       "  Note: Only the head of the SFrame is printed.\n",
       "  You can use print_rows(num_rows=m, num_columns=n) to print more rows and columns.,\n",
       "  'rmse_by_item': Columns:\n",
       "  \titem_id\tint\n",
       "  \tcount\tint\n",
       "  \trmse\tfloat\n",
       "  \n",
       "  Rows: 1472\n",
       "  \n",
       "  Data:\n",
       "  +---------+-------+----------------+\n",
       "  | item_id | count |      rmse      |\n",
       "  +---------+-------+----------------+\n",
       "  |   232   |   24  | 0.779231028568 |\n",
       "  |   363   |   13  | 0.969882366355 |\n",
       "  |   431   |   48  | 1.04140376366  |\n",
       "  |   738   |   12  | 0.897527467856 |\n",
       "  |   732   |   51  | 0.936182850961 |\n",
       "  |   187   |   70  | 0.86777572079  |\n",
       "  |   1368  |   2   | 1.58113883008  |\n",
       "  |   764   |   6   | 1.05409255339  |\n",
       "  |   926   |   29  | 1.03408875607  |\n",
       "  |   1180  |   2   | 0.505076272276 |\n",
       "  +---------+-------+----------------+\n",
       "  [1472 rows x 3 columns]\n",
       "  Note: Only the head of the SFrame is printed.\n",
       "  You can use print_rows(num_rows=m, num_columns=n) to print more rows and columns.,\n",
       "  'rmse_by_user': Columns:\n",
       "  \tuser_id\tint\n",
       "  \tcount\tint\n",
       "  \trmse\tfloat\n",
       "  \n",
       "  Rows: 568\n",
       "  \n",
       "  Data:\n",
       "  +---------+-------+----------------+\n",
       "  | user_id | count |      rmse      |\n",
       "  +---------+-------+----------------+\n",
       "  |   232   |   27  | 1.02021647403  |\n",
       "  |   363   |   98  | 1.32323926986  |\n",
       "  |   738   |   45  | 0.73103029786  |\n",
       "  |   187   |   19  | 0.804506669111 |\n",
       "  |   764   |   38  | 0.70161680375  |\n",
       "  |   786   |   38  | 0.657194201806 |\n",
       "  |   863   |   30  | 1.15371880041  |\n",
       "  |   454   |   64  | 1.23305665339  |\n",
       "  |   499   |   34  | 0.895201114544 |\n",
       "  |   354   |   75  | 0.911052161145 |\n",
       "  +---------+-------+----------------+\n",
       "  [568 rows x 3 columns]\n",
       "  Note: Only the head of the SFrame is printed.\n",
       "  You can use print_rows(num_rows=m, num_columns=n) to print more rows and columns.,\n",
       "  'rmse_overall': 1.0208875373360757},\n",
       " {'precision_recall_by_user': Columns:\n",
       "  \tuser_id\tint\n",
       "  \tcutoff\tint\n",
       "  \tprecision\tfloat\n",
       "  \trecall\tfloat\n",
       "  \tcount\tint\n",
       "  \n",
       "  Rows: 10224\n",
       "  \n",
       "  Data:\n",
       "  +---------+--------+----------------+--------+-------+\n",
       "  | user_id | cutoff |   precision    | recall | count |\n",
       "  +---------+--------+----------------+--------+-------+\n",
       "  |    1    |   1    |      1.0       |  0.01  |  100  |\n",
       "  |    1    |   2    |      0.5       |  0.01  |  100  |\n",
       "  |    1    |   3    | 0.333333333333 |  0.01  |  100  |\n",
       "  |    1    |   4    |      0.25      |  0.01  |  100  |\n",
       "  |    1    |   5    |      0.2       |  0.01  |  100  |\n",
       "  |    1    |   6    | 0.166666666667 |  0.01  |  100  |\n",
       "  |    1    |   7    | 0.142857142857 |  0.01  |  100  |\n",
       "  |    1    |   8    |     0.125      |  0.01  |  100  |\n",
       "  |    1    |   9    | 0.111111111111 |  0.01  |  100  |\n",
       "  |    1    |   10   |      0.1       |  0.01  |  100  |\n",
       "  +---------+--------+----------------+--------+-------+\n",
       "  [10224 rows x 5 columns]\n",
       "  Note: Only the head of the SFrame is printed.\n",
       "  You can use print_rows(num_rows=m, num_columns=n) to print more rows and columns.,\n",
       "  'precision_recall_overall': Columns:\n",
       "  \tcutoff\tint\n",
       "  \tprecision\tfloat\n",
       "  \trecall\tfloat\n",
       "  \n",
       "  Rows: 18\n",
       "  \n",
       "  Data:\n",
       "  +--------+-----------------+------------------+\n",
       "  | cutoff |    precision    |      recall      |\n",
       "  +--------+-----------------+------------------+\n",
       "  |   1    | 0.0739436619718 | 0.00163384984317 |\n",
       "  |   2    | 0.0994718309859 | 0.00452457375296 |\n",
       "  |   3    | 0.0821596244131 | 0.00541325249749 |\n",
       "  |   4    | 0.0911091549296 | 0.00812637976597 |\n",
       "  |   5    | 0.0975352112676 | 0.0105531019785  |\n",
       "  |   6    |  0.102112676056 | 0.0136527909768  |\n",
       "  |   7    |  0.101609657948 | 0.0155797908225  |\n",
       "  |   8    |  0.103433098592 | 0.0178440211519  |\n",
       "  |   9    |  0.108568075117 | 0.0208782949571  |\n",
       "  |   10   |      0.1125     | 0.0241293773403  |\n",
       "  +--------+-----------------+------------------+\n",
       "  [18 rows x 3 columns]\n",
       "  Note: Only the head of the SFrame is printed.\n",
       "  You can use print_rows(num_rows=m, num_columns=n) to print more rows and columns.,\n",
       "  'rmse_by_item': Columns:\n",
       "  \titem_id\tint\n",
       "  \tcount\tint\n",
       "  \trmse\tfloat\n",
       "  \n",
       "  Rows: 1472\n",
       "  \n",
       "  Data:\n",
       "  +---------+-------+----------------+\n",
       "  | item_id | count |      rmse      |\n",
       "  +---------+-------+----------------+\n",
       "  |   232   |   24  | 0.665267982033 |\n",
       "  |   363   |   13  | 0.880828477915 |\n",
       "  |   431   |   48  | 0.954476958454 |\n",
       "  |   738   |   12  | 0.769411583174 |\n",
       "  |   732   |   51  | 0.822110577353 |\n",
       "  |   187   |   70  | 0.905267316839 |\n",
       "  |   1368  |   2   | 1.53750132191  |\n",
       "  |   764   |   6   | 1.01458417197  |\n",
       "  |   926   |   29  | 0.878772736824 |\n",
       "  |   1180  |   2   | 0.62389367525  |\n",
       "  +---------+-------+----------------+\n",
       "  [1472 rows x 3 columns]\n",
       "  Note: Only the head of the SFrame is printed.\n",
       "  You can use print_rows(num_rows=m, num_columns=n) to print more rows and columns.,\n",
       "  'rmse_by_user': Columns:\n",
       "  \tuser_id\tint\n",
       "  \tcount\tint\n",
       "  \trmse\tfloat\n",
       "  \n",
       "  Rows: 568\n",
       "  \n",
       "  Data:\n",
       "  +---------+-------+----------------+\n",
       "  | user_id | count |      rmse      |\n",
       "  +---------+-------+----------------+\n",
       "  |   232   |   27  | 1.04936888265  |\n",
       "  |   363   |   98  | 1.20283878914  |\n",
       "  |   738   |   45  | 0.729455670643 |\n",
       "  |   187   |   19  | 0.791519671573 |\n",
       "  |   764   |   38  | 0.685232906665 |\n",
       "  |   786   |   38  | 0.638315917961 |\n",
       "  |   863   |   30  | 1.16158927486  |\n",
       "  |   454   |   64  | 1.02505796677  |\n",
       "  |   499   |   34  | 0.923602693551 |\n",
       "  |   354   |   75  | 0.862262564895 |\n",
       "  +---------+-------+----------------+\n",
       "  [568 rows x 3 columns]\n",
       "  Note: Only the head of the SFrame is printed.\n",
       "  You can use print_rows(num_rows=m, num_columns=n) to print more rows and columns.,\n",
       "  'rmse_overall': 0.9380669950069968},\n",
       " {'precision_recall_by_user': Columns:\n",
       "  \tuser_id\tint\n",
       "  \tcutoff\tint\n",
       "  \tprecision\tfloat\n",
       "  \trecall\tfloat\n",
       "  \tcount\tint\n",
       "  \n",
       "  Rows: 10224\n",
       "  \n",
       "  Data:\n",
       "  +---------+--------+----------------+--------+-------+\n",
       "  | user_id | cutoff |   precision    | recall | count |\n",
       "  +---------+--------+----------------+--------+-------+\n",
       "  |    1    |   1    |      1.0       |  0.01  |  100  |\n",
       "  |    1    |   2    |      0.5       |  0.01  |  100  |\n",
       "  |    1    |   3    | 0.666666666667 |  0.02  |  100  |\n",
       "  |    1    |   4    |      0.5       |  0.02  |  100  |\n",
       "  |    1    |   5    |      0.4       |  0.02  |  100  |\n",
       "  |    1    |   6    |      0.5       |  0.03  |  100  |\n",
       "  |    1    |   7    | 0.571428571429 |  0.04  |  100  |\n",
       "  |    1    |   8    |     0.625      |  0.05  |  100  |\n",
       "  |    1    |   9    | 0.666666666667 |  0.06  |  100  |\n",
       "  |    1    |   10   |      0.7       |  0.07  |  100  |\n",
       "  +---------+--------+----------------+--------+-------+\n",
       "  [10224 rows x 5 columns]\n",
       "  Note: Only the head of the SFrame is printed.\n",
       "  You can use print_rows(num_rows=m, num_columns=n) to print more rows and columns.,\n",
       "  'precision_recall_overall': Columns:\n",
       "  \tcutoff\tint\n",
       "  \tprecision\tfloat\n",
       "  \trecall\tfloat\n",
       "  \n",
       "  Rows: 18\n",
       "  \n",
       "  Data:\n",
       "  +--------+----------------+------------------+\n",
       "  | cutoff |   precision    |      recall      |\n",
       "  +--------+----------------+------------------+\n",
       "  |   1    | 0.360915492958 | 0.00912052697274 |\n",
       "  |   2    | 0.361795774648 | 0.0184452903423  |\n",
       "  |   3    | 0.365610328638 | 0.0279341073161  |\n",
       "  |   4    | 0.362235915493 | 0.0367699846121  |\n",
       "  |   5    | 0.351408450704 | 0.0444878684138  |\n",
       "  |   6    | 0.347711267606 | 0.0526149149531  |\n",
       "  |   7    | 0.344064386318 | 0.0611156815039  |\n",
       "  |   8    | 0.343089788732 | 0.0700136599884  |\n",
       "  |   9    | 0.337636932707 | 0.0771043910778  |\n",
       "  |   10   | 0.33485915493  | 0.0850516244912  |\n",
       "  +--------+----------------+------------------+\n",
       "  [18 rows x 3 columns]\n",
       "  Note: Only the head of the SFrame is printed.\n",
       "  You can use print_rows(num_rows=m, num_columns=n) to print more rows and columns.}]"
      ]
     },
     "execution_count": 38,
     "metadata": {},
     "output_type": "execute_result"
    }
   ],
   "source": [
    "# Evaluation: Precision and Recall\n",
    "model_name_list=[\"Popularity Recommender\",\"Factorization Recommender\",\"Item-Item Similarity\"]\n",
    "graphlab.recommender.util.compare_models(sf_test, \n",
    "                                         [popularity_recommender, factorization_recommender, item_item_sim_recommender], \n",
    "                                         model_names=model_name_list)"
   ]
  },
  {
   "cell_type": "code",
   "execution_count": null,
   "metadata": {},
   "outputs": [],
   "source": []
  }
 ],
 "metadata": {
  "kernelspec": {
   "display_name": "Python 2",
   "language": "python",
   "name": "python2"
  },
  "language_info": {
   "codemirror_mode": {
    "name": "ipython",
    "version": 2
   },
   "file_extension": ".py",
   "mimetype": "text/x-python",
   "name": "python",
   "nbconvert_exporter": "python",
   "pygments_lexer": "ipython2",
   "version": "2.7.14"
  }
 },
 "nbformat": 4,
 "nbformat_minor": 2
}
